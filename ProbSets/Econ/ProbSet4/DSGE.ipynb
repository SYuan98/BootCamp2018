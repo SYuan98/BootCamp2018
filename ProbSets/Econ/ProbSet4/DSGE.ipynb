{
 "cells": [
  {
   "cell_type": "markdown",
   "metadata": {},
   "source": [
    "Exercise 1\n",
    "\n",
    "We already have the Euler equation and the policy function. We can rewrite $k_{t+2}$ in terms of $k_{t+1}$: $$ k_{t+2}=Ae^{Zt+1}k_{t+1}^{a} $$and subsititute in the Euler equation. Now we have:\n",
    " $$ \\frac{1}{(1-A)e^{Zt}K_{t}^a} = \\beta E_{t}[\\frac{ae^{Zt+1}K_{t+1}^{a-1}}{e^{Zt+1}K_{t+1}^a - Ae^{Zt+1}K_{t+1}^a}]$$ Hence: $$K_{t+1} = \\beta a e^{Zt}K_{t}^a \\Rightarrow A = \\beta a$$"
   ]
  },
  {
   "cell_type": "markdown",
   "metadata": {},
   "source": [
    "Exercise 2\n",
    "\n",
    "Plugging in the functional forms gives us:\n",
    "$$w_t(1-\\tau)\\frac{1}{c_t}) = \\frac{a}{1-l_t}$$\n",
    "$$\\frac{1}{c_t} = \\beta \\mathbb{E} \\big[ \\frac{1}{c_{t+1}}[(r_{t+1}-\\delta)(1-\\tau) +1] \\big]$$\n",
    "$$R_t = \\alpha e^{z_t} K^{\\alpha - 1} L^{1-\\alpha} $$\n",
    "$$W_t = (1 - \\alpha) e^{z_t} K^\\alpha L^{-\\alpha}$$\n",
    "$$\\tau[w_tl_t+(r_t - \\delta)k_t] = T_t$$\n",
    "Imposing market clearing conditions:\n",
    "$$l_t = L_t $$\n",
    "$$k_t = K_t $$\n",
    "$$w_t = W_t $$\n",
    "$$r_t = R_t $$\n",
    "We can't use the same algebraic tricks to solve for A. "
   ]
  },
  {
   "cell_type": "markdown",
   "metadata": {},
   "source": [
    "Exercise 3\n",
    "\n",
    "Plugging in the functional forms gives us :\n",
    "$$w_t(1-\\tau)c_t^{-\\gamma} = \\frac{a}{1-l_t} $$\n",
    "$$c_t^{-\\gamma} = \\beta \\mathbb{E} \\big[ c_{t+1}^{-\\gamma}[(r_{t+1}-\\delta)(1-\\tau) +1] \\big]$$\n",
    "$$R_t = \\alpha e^{z_t} K_t^{\\alpha - 1} L_T^{1-\\alpha} $$\n",
    "$$W_t = (1 - \\alpha) e^{z_t} K_t^\\alpha L_t^{-\\alpha}$$\n",
    "$$\\tau[w_tl_t+(r_t - \\delta)k_t] = T_t$$\n",
    "market clearing conditions unchanged  \n"
   ]
  },
  {
   "cell_type": "markdown",
   "metadata": {},
   "source": [
    "Exercise 4\n",
    "\n",
    "$$w_t(1-\\tau)c_t^{-\\gamma} = -a(1-l_t)^{-\\gamma} $$\n",
    "$$c_t^{-\\gamma} = \\beta \\mathbb{E} \\big[ c_{t+1}^{-\\gamma}[(r_{t+1}-\\delta)(1-\\tau) +1] \\big]$$\n",
    "$$R_t = e^z_t [\\alpha K^{\\eta}_t +(1-\\alpha)L^{\\eta}_t]^{\\frac{1}{\\eta} - 1} \\alpha K_t^{\\eta -1} $$\n",
    "$$W_t = e^z_t [\\alpha K^{\\eta}_t +(1-\\alpha)L^{\\eta}_t]^{\\frac{1}{\\eta} - 1} (1-\\alpha) L_t^{\\eta -1}$$\n",
    "$$\\tau[w_tl_t+(r_t - \\delta)k_t] = T_t$$\n",
    "market clearing conditions unchaged "
   ]
  },
  {
   "cell_type": "markdown",
   "metadata": {},
   "source": [
    "Exercise 5\n",
    "\n",
    "We have:\n",
    "$$c_t^{-\\gamma} = \\beta \\mathbb{E} \\big[ c_{t+1}^{-\\gamma}[(r_{t+1}-\\delta)(1-\\tau) +1] \\big]$$\n",
    "$$R_t = \\alpha e^{\\alpha z_t} K_t^{\\alpha - 1} L_T^{1-\\alpha} $$\n",
    "$$W_t = (1 - \\alpha) e^{\\alpha z_t} K_t^\\alpha L_t^{- \\alpha}$$\n",
    "$$\\tau[w_t+(r_t - \\delta)k_t] = T_t$$\n",
    "market clearing conditions unchanged \n",
    "\n",
    "With $l_{t}=1$, in steady state we have:\n",
    "$$c^{-\\gamma} = \\beta \\mathbb{E} \\big[ c^{-\\gamma}[(r-\\delta)(1-\\tau)+1] \\big] $$\n",
    "$$r = \\alpha e^{\\alpha z} k^{\\alpha - 1} $$\n",
    "$$w = (1 - \\alpha) e^{\\alpha z} k^\\alpha $$\n",
    "$$\\tau[w+(r - \\delta)k] = T$$\n",
    "\n",
    "Simply the Euler equation gives us:\n",
    "$$ 1 = \\beta [(ak^{\\alpha-1}e^{{z\\alpha}} - \\delta)(1-\\tau) +1]$$\n",
    "With $z=0$ we have:\n",
    "$$k = \\big[\\frac{\\beta(1-\\tau)\\alpha}{(1-\\beta) + \\delta\\beta(1-\\tau)}\\big]^{\\frac{1}{1-\\alpha}}$$"
   ]
  },
  {
   "cell_type": "code",
   "execution_count": 44,
   "metadata": {},
   "outputs": [],
   "source": [
    "#parameters \n",
    "gamma = 2.5\n",
    "beta = 0.98\n",
    "alpha = 0.40\n",
    "a = 0.5\n",
    "delta = 0.10\n",
    "tau = 0.05\n",
    "a=0.5\n",
    "xi=1.5"
   ]
  },
  {
   "cell_type": "code",
   "execution_count": 45,
   "metadata": {},
   "outputs": [],
   "source": [
    "import numpy as np\n",
    "import scipy.optimize as opt"
   ]
  },
  {
   "cell_type": "code",
   "execution_count": 8,
   "metadata": {},
   "outputs": [],
   "source": [
    "#solve for the steady state values numerically \n",
    "def euler(k):\n",
    "    eq = 1 - beta*((alpha*k**(alpha-1) - delta)*(1-tau)+1)\n",
    "    return eq\n",
    "def p5():\n",
    "    root = opt.root(euler, 1,  tol=1e-8)\n",
    "    answer = root.x\n",
    "    return answer"
   ]
  },
  {
   "cell_type": "code",
   "execution_count": 10,
   "metadata": {},
   "outputs": [
    {
     "data": {
      "text/plain": [
       "array([7.28749795])"
      ]
     },
     "execution_count": 10,
     "metadata": {},
     "output_type": "execute_result"
    }
   ],
   "source": [
    "k=p5()\n",
    "k"
   ]
  },
  {
   "cell_type": "code",
   "execution_count": 12,
   "metadata": {},
   "outputs": [
    {
     "data": {
      "text/plain": [
       "array([2.21325461])"
      ]
     },
     "execution_count": 12,
     "metadata": {},
     "output_type": "execute_result"
    }
   ],
   "source": [
    "y=k**alpha\n",
    "y"
   ]
  },
  {
   "cell_type": "code",
   "execution_count": 13,
   "metadata": {},
   "outputs": [
    {
     "data": {
      "text/plain": [
       "array([0.7287498])"
      ]
     },
     "execution_count": 13,
     "metadata": {},
     "output_type": "execute_result"
    }
   ],
   "source": [
    "i=delta*k\n",
    "i"
   ]
  },
  {
   "cell_type": "markdown",
   "metadata": {},
   "source": [
    "Exercise 6\n",
    "\n",
    "Plugging in the functional forms gives us :\n",
    "$$w_t(1-\\tau)c_t^{-\\gamma} = \\frac{\\alpha}{{(1-l_t)}^{\\xi}} $$\n",
    "$$c_t^{-\\gamma} = \\beta \\mathbb{E} \\big[ c_{t+1}^{-\\gamma}[(r_{t+1}-\\delta)(1-\\tau) +1] \\big]$$\n",
    "$$R_t = \\alpha{e^{z_t}}^{1-a} K_t^{\\alpha - 1} L_T^{1-\\alpha} $$\n",
    "$$W_t = (1 - \\alpha) {(e^{z_t})}^{1-a} K_t^\\alpha L_t^{-\\alpha}$$\n",
    "$$\\tau[w_tl_t+(r_t - \\delta)k_t] = T_t$$\n",
    "market clearing conditions unchanged  "
   ]
  },
  {
   "cell_type": "code",
   "execution_count": 54,
   "metadata": {},
   "outputs": [],
   "source": [
    "#solve problem 6 numerically \n",
    "def get_cbar(w, r, guess):\n",
    "    c_bar = w * guess[1] + (r - delta) * guess[0]\n",
    "    return c_bar\n",
    "\n",
    "def get_rbar(guess):\n",
    "    r_bar = alpha * (guess[1]/guess[0]) ** (1 - alpha) * (np.exp(0)) ** (1 - alpha)\n",
    "    return r_bar\n",
    "\n",
    "def get_wbar(guess):\n",
    "    w_bar = (1 - alpha) * (guess[0]/guess[1]) ** alpha * (np.exp(0)) ** (1 - alpha)\n",
    "    return w_bar\n",
    "def euler_6(guess):\n",
    "    w = get_wbar(guess)\n",
    "    r = get_rbar(guess)\n",
    "    c = get_cbar(w, r, guess)\n",
    "    eq1 = c ** (-gamma) - beta * (c ** (-gamma)* ((1 - tau) * (r - delta) + 1))\n",
    "    eq2 = a * (1 - guess[1]) ** (-1*xi) - c ** (-gamma) * w * (1 - tau)  \n",
    "    errors = np.array([eq1, eq2])\n",
    "    return errors \n",
    "    \n",
    "    \n",
    "    "
   ]
  },
  {
   "cell_type": "code",
   "execution_count": 61,
   "metadata": {},
   "outputs": [
    {
     "name": "stdout",
     "output_type": "stream",
     "text": [
      "steady state k is: 4.225229026915344\n",
      "steady state l is:  0.5797914531683577\n"
     ]
    }
   ],
   "source": [
    "guess=np.array([1, 0.9])\n",
    "result = opt.root(euler_6, guess,tol=1e-8)\n",
    "print(\"steady state k is:\",k)\n",
    "print(\"steady state l is: \",l)\n",
    "k,l=result.x"
   ]
  },
  {
   "cell_type": "code",
   "execution_count": null,
   "metadata": {},
   "outputs": [],
   "source": []
  }
 ],
 "metadata": {
  "kernelspec": {
   "display_name": "Python 3",
   "language": "python",
   "name": "python3"
  },
  "language_info": {
   "codemirror_mode": {
    "name": "ipython",
    "version": 3
   },
   "file_extension": ".py",
   "mimetype": "text/x-python",
   "name": "python",
   "nbconvert_exporter": "python",
   "pygments_lexer": "ipython3",
   "version": "3.6.5"
  }
 },
 "nbformat": 4,
 "nbformat_minor": 2
}
