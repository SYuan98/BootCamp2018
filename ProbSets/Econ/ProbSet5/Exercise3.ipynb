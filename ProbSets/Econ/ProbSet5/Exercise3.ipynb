{
 "cells": [
  {
   "cell_type": "code",
   "execution_count": 52,
   "metadata": {},
   "outputs": [],
   "source": [
    "#import packages \n",
    "import numpy as np\n",
    "import pandas as pd\n",
    "import scipy.stats as sts\n",
    "import os\n",
    "import matplotlib.pyplot as plt\n",
    "import scipy.optimize as opt\n",
    "import warnings\n",
    "warnings.filterwarnings('ignore')\n",
    "from scipy import special\n",
    "from scipy.integrate import quad\n",
    "from scipy.linalg import pinv"
   ]
  },
  {
   "cell_type": "code",
   "execution_count": 78,
   "metadata": {
    "scrolled": true
   },
   "outputs": [
    {
     "data": {
      "text/plain": [
       "array([  2500.,   7500.,  12500.,  17500.,  22500.,  27500.,  32500.,\n",
       "        37500.,  42500.,  47500.,  52500.,  57500.,  62500.,  67500.,\n",
       "        72500.,  77500.,  82500.,  87500.,  92500.,  97500., 102500.,\n",
       "       107500., 112500., 117500., 122500., 127500., 132500., 137500.,\n",
       "       142500., 147500., 152500., 157500., 162500., 167500., 172500.,\n",
       "       177500., 182500., 187500., 192500., 197500., 225000., 300000.])"
      ]
     },
     "execution_count": 78,
     "metadata": {},
     "output_type": "execute_result"
    }
   ],
   "source": [
    "data = np.loadtxt('usincmoms.txt')\n",
    "data[:,1]\n"
   ]
  },
  {
   "cell_type": "code",
   "execution_count": 79,
   "metadata": {},
   "outputs": [
    {
     "data": {
      "image/png": "[encoded data removed]",
      "text/plain": [
       "<Figure size 432x288 with 1 Axes>"
      ]
     },
     "metadata": {},
     "output_type": "display_data"
    }
   ],
   "source": [
    "width = np.hstack([np.ones(len(data[:,1]) - 2)*5, 50, 100])\n",
    "left=data[:,1]/1000\n",
    "\n",
    "b=np.hstack([data[:, 0][:-2], data[:, 0][-2]/10, data[:, 0][-1]/20])/5\n",
    "plt.bar(left, b, width, edgecolor='k')\n",
    "plt.xlabel('Income (in thousands)')\n",
    "plt.ylabel('Frequency')\n",
    "plt.show()\n"
   ]
  },
  {
   "cell_type": "markdown",
   "metadata": {},
   "source": [
    "# Part(b)"
   ]
  },
  {
   "cell_type": "code",
   "execution_count": 85,
   "metadata": {},
   "outputs": [],
   "source": [
    "#define weight matrix \n",
    "xvals=data[:,1]\n",
    "data_moments=data[:,0]\n",
    "W = np.diag(data_moments)"
   ]
  },
  {
   "cell_type": "code",
   "execution_count": 86,
   "metadata": {},
   "outputs": [],
   "source": [
    "def model_moments_ln(xvals, mu, sigma):\n",
    "    \n",
    "    pdf_vals = sts.lognorm.pdf(xvals, s = sigma, scale = np.exp(mu))\n",
    "    \n",
    "    return pdf_vals\n",
    "\n",
    "\n",
    "def err_vec(xvals, data_moments , mu, sigma, simple=False):\n",
    "    g = lambda x: model_moments_ln(x, mu, sigma)\n",
    "    model_moments = np.zeros(len(xvals))\n",
    "    for i in range(len(xvals)):\n",
    "        model_moments[i] = quad(g, xvals[i]-2500, xvals[i] + 2500)[0] \n",
    "    if simple:\n",
    "        err_vec = model_moments - data_moments\n",
    "    else:\n",
    "        err_vec = (model_moments - data_moments) / data_moments\n",
    "    \n",
    "    return err_vec\n",
    "\n",
    "def crit(params, *args):\n",
    "    \n",
    "    mu, sigma = params\n",
    "    xvals, data_moments, W = args\n",
    "    err = err_vec(xvals, data_moments, mu, sigma)\n",
    "    crit_val = np.dot(np.dot(err.T, W), err) \n",
    "    \n",
    "    return crit_val"
   ]
  },
  {
   "cell_type": "code",
   "execution_count": 87,
   "metadata": {
    "scrolled": true
   },
   "outputs": [
    {
     "name": "stdout",
     "output_type": "stream",
     "text": [
      "      fun: 0.06299211591348156\n",
      " hess_inv: <2x2 LbfgsInvHessProduct with dtype=float64>\n",
      "      jac: array([-4.89747132e-06,  1.10467191e-06])\n",
      "  message: b'CONVERGENCE: NORM_OF_PROJECTED_GRADIENT_<=_PGTOL'\n",
      "     nfev: 21\n",
      "      nit: 6\n",
      "   status: 0\n",
      "  success: True\n",
      "        x: array([10.86071336,  1.0370576 ])\n"
     ]
    }
   ],
   "source": [
    "mean = (xvals * data_moments).sum()\n",
    "sd = ((xvals - mean) ** 2 * data_moments).sum()\n",
    "\n",
    "mu_init = np.log(mean/(np.sqrt(1 + sd/mean ** 2)))\n",
    "sigma_init = np.sqrt(np.log(1 + sd/mean ** 2))\n",
    "\n",
    "bnds = ((None, None), (1e-5, None))\n",
    "params_init = (mu_init, sigma_init)\n",
    "\n",
    "ln_args = (xvals, data_moments, W)\n",
    "results = opt.minimize(crit, params_init, args=(ln_args), bounds = bnds)\n",
    "print(results)\n",
    "mu_ln, sigma_ln = results.x"
   ]
  },
  {
   "cell_type": "code",
   "execution_count": 88,
   "metadata": {},
   "outputs": [
    {
     "name": "stdout",
     "output_type": "stream",
     "text": [
      "Error vector= [-6.61339680e-01  6.77089692e-02  6.25577633e-03  1.08637340e-01\n",
      "  4.99278439e-02  6.23867221e-02 -3.08256416e-02 -3.72224324e-02\n",
      " -7.20981888e-02 -1.20057071e-02 -1.41610601e-01 -5.08736562e-02\n",
      " -1.71732563e-01 -1.27817906e-01 -1.52944151e-01 -1.90725330e-01\n",
      " -1.56885061e-01 -8.43137897e-02 -1.67026810e-01 -1.15720588e-01\n",
      " -2.73108331e-01 -4.12853482e-02 -8.76641725e-02 -7.09827709e-02\n",
      " -1.21011769e-01  7.06091365e-04 -3.18792154e-02  1.90962512e-01\n",
      " -9.83385836e-03  6.87580014e-02 -2.33848390e-01  1.31262267e-01\n",
      "  1.26743868e-01  2.09080530e-01  1.23762598e-01  2.31092512e-01\n",
      "  3.36080734e-01  5.96287042e-01  4.38966848e-01  6.55287280e-01\n",
      " -8.33409654e-01 -9.33507366e-01]\n"
     ]
    }
   ],
   "source": [
    "error=err_vec(xvals, data_moments , mu_ln, sigma_ln, simple=False)\n",
    "print('Error vector=', error)"
   ]
  },
  {
   "cell_type": "code",
   "execution_count": 91,
   "metadata": {
    "scrolled": true
   },
   "outputs": [
    {
     "data": {
      "image/png": "[encoded data removed]",
      "text/plain": [
       "<Figure size 432x288 with 1 Axes>"
      ]
     },
     "metadata": {},
     "output_type": "display_data"
    }
   ],
   "source": [
    "# Plot the histogram of the data\n",
    "width = np.hstack([np.ones(len(data[:,1]) - 2)*5, 50, 100])\n",
    "left=data[:,1]/1000\n",
    "\n",
    "b=np.hstack([data[:, 0][:-2], data[:, 0][-2]/10, data[:, 0][-1]/20])/5\n",
    "plt.bar(left, b, width, edgecolor='k')\n",
    "plt.xlabel('Income (in thousands)')\n",
    "plt.ylabel('Frequency')\n",
    "\n",
    "# Plot the estimated GMM PDF\n",
    "x=left*1000\n",
    "g = lambda x: model_moments_ln(x, mu_ln, sigma_ln)\n",
    "y = np.zeros(len(xvals))\n",
    "for i in range(len(xvals)-2):\n",
    "        y[i] = quad(g, x[i]-2500, x[i] + 2500)[0] \n",
    "y[-1]=quad(g, x[-1]-50000, x[-1] + 50000)[0] /20\n",
    "y[-2]=quad(g, x[-2]-25000, x[-2] + 25000)[0] /10\n",
    "x=x/1000\n",
    "y=y/5\n",
    "plt.plot(x, y, 'm')\n",
    "plt.show()"
   ]
  },
  {
   "cell_type": "markdown",
   "metadata": {},
   "source": [
    "# Part(c)"
   ]
  },
  {
   "cell_type": "code",
   "execution_count": 34,
   "metadata": {},
   "outputs": [],
   "source": [
    "alpha_init  = 3\n",
    "beta_init = 20000"
   ]
  },
  {
   "cell_type": "code",
   "execution_count": 37,
   "metadata": {},
   "outputs": [],
   "source": [
    "def model_moments_ga(xvals, alpha, beta):\n",
    "    \n",
    "    pdf_vals = 1/((beta ** alpha) * special.gamma(alpha)) * (xvals ** (alpha - 1)) * np.exp(-xvals/beta)\n",
    "    \n",
    "    return pdf_vals\n",
    "\n",
    "\n",
    "def err_vec_ga(xvals,  data_moments, alpha, beta, simple=False):\n",
    "    \n",
    "\n",
    "    g = lambda x: model_moments_ga(x, alpha, beta)\n",
    "    model_moments = np.zeros(len(xvals))\n",
    "    \n",
    "    for i in range(len(xvals)):\n",
    "        model_moments[i] = quad(g, xvals[i]-2500, xvals[i] + 2500)[0]\n",
    "    if simple:\n",
    "        err_vec = model_moments - data_moments\n",
    "    else:\n",
    "        err_vec = (model_moments - data_moments) / data_moments\n",
    "    \n",
    "    return err_vec\n",
    "\n",
    "def crit_ga(params, *args):\n",
    "    \n",
    "    alpha, beta = params\n",
    "    xvals, frequency, W = args\n",
    "    err = err_vec_ga(xvals,  data_moments, alpha, beta)\n",
    "    crit_val = np.dot(np.dot(err.T, W), err) \n",
    "    \n",
    "    return crit_val"
   ]
  },
  {
   "cell_type": "code",
   "execution_count": 38,
   "metadata": {
    "scrolled": true
   },
   "outputs": [
    {
     "name": "stdout",
     "output_type": "stream",
     "text": [
      "      fun: 0.044024590579473645\n",
      " hess_inv: <2x2 LbfgsInvHessProduct with dtype=float64>\n",
      "      jac: array([-1.73680514e-06,  1.38777878e-09])\n",
      "  message: b'CONVERGENCE: NORM_OF_PROJECTED_GRADIENT_<=_PGTOL'\n",
      "     nfev: 108\n",
      "      nit: 28\n",
      "   status: 0\n",
      "  success: True\n",
      "        x: array([1.40615147e+00, 4.55944321e+04])\n"
     ]
    }
   ],
   "source": [
    "bnds1 = ((1e-5, None), (1e-5, None))\n",
    "params_init1 = (alpha_init, beta_init)\n",
    "\n",
    "ga_args = (xvals,  data_moments, W)\n",
    "results1 = opt.minimize(crit_ga, params_init1, args=(ga_args), bounds = bnds1)\n",
    "print(results1)\n",
    "alpha_ga, beta_ga = results1.x"
   ]
  },
  {
   "cell_type": "code",
   "execution_count": 40,
   "metadata": {
    "scrolled": true
   },
   "outputs": [
    {
     "name": "stdout",
     "output_type": "stream",
     "text": [
      "Error vector= [-4.46111329e-02  2.19137644e-01 -5.83574754e-02  3.08115336e-03\n",
      " -3.38452699e-02  1.14750208e-02 -4.08133738e-02 -1.00282881e-02\n",
      " -1.15632737e-02  8.60786378e-02 -3.04062237e-02  9.68115733e-02\n",
      " -2.49670425e-02  4.16055332e-02  2.22246756e-02 -1.67841034e-02\n",
      "  2.76103089e-02  1.15922282e-01  1.18199223e-02  6.74889772e-02\n",
      " -1.30370484e-01  1.33706962e-01  6.37302589e-02  6.54720808e-02\n",
      " -1.05985272e-02  1.03180167e-01  4.31458639e-02  2.51863656e-01\n",
      "  1.34864641e-02  6.33704504e-02 -2.60234613e-01  5.83455285e-02\n",
      "  1.98000343e-02  5.71568908e-02 -5.21313214e-02  3.98997518e-04\n",
      "  4.46405647e-02  1.99392070e-01  3.77715942e-02  1.44535402e-01\n",
      " -9.10323055e-01 -9.84084830e-01]\n"
     ]
    }
   ],
   "source": [
    "error=err_vec_ga(xvals, data_moments , alpha_ga, beta_ga, simple=False)\n",
    "print('Error vector=', error)"
   ]
  },
  {
   "cell_type": "code",
   "execution_count": 45,
   "metadata": {
    "scrolled": false
   },
   "outputs": [
    {
     "data": {
      "image/png": "[encoded data removed]",
      "text/plain": [
       "<Figure size 432x288 with 1 Axes>"
      ]
     },
     "metadata": {},
     "output_type": "display_data"
    }
   ],
   "source": [
    "# Plot the histogram of the data\n",
    "width = np.hstack([np.ones(len(data[:,1]) - 2)*5, 50, 100])\n",
    "left=data[:,1]/1000\n",
    "plt.bar(left, np.hstack([data[:, 0][:-2], data[:, 0][-2]/10, data[:, 0][-1]/20]), width, edgecolor='k')\n",
    "b=np.hstack([data[:, 0][:-2], data[:, 0][-2]/10, data[:, 0][-1]/20])\n",
    "plt.xlabel('Income (in thousands)')\n",
    "plt.ylabel('Frequency')\n",
    "\n",
    "# Plot the estimated GMM PDF\n",
    "x=left*1000\n",
    "g = lambda x: model_moments_ga(x, alpha_ga, beta_ga)\n",
    "y = np.zeros(len(xvals))\n",
    "for i in range(len(xvals)):\n",
    "        y[i] = quad(g, x[i]-2500, x[i] + 2500)[0] \n",
    "x=x/1000\n",
    "plt.plot(x, y, 'm',label='GA_dist')\n",
    "\n",
    "\n",
    "\n",
    "plt.show()\n"
   ]
  },
  {
   "cell_type": "markdown",
   "metadata": {},
   "source": [
    "# Part(d)"
   ]
  },
  {
   "cell_type": "code",
   "execution_count": 46,
   "metadata": {
    "scrolled": false
   },
   "outputs": [
    {
     "data": {
      "image/png": "[encoded data removed]",
      "text/plain": [
       "<Figure size 432x288 with 1 Axes>"
      ]
     },
     "metadata": {},
     "output_type": "display_data"
    }
   ],
   "source": [
    "# Plot the histogram of the data\n",
    "width = np.hstack([np.ones(len(data[:,1]) - 2)*5, 50, 100])\n",
    "left=data[:,1]/1000\n",
    "plt.bar(left, np.hstack([data[:, 0][:-2], data[:, 0][-2]/10, data[:, 0][-1]/20]), width, edgecolor='k')\n",
    "b=np.hstack([data[:, 0][:-2], data[:, 0][-2]/10, data[:, 0][-1]/20])\n",
    "plt.xlabel('Income (in thousands)')\n",
    "plt.ylabel('Frequency')\n",
    "# Plot the estimated GMM PDF\n",
    "x=left*1000\n",
    "g = lambda x: model_moments_ga(x, alpha_ga, beta_ga)\n",
    "y = np.zeros(len(xvals))\n",
    "for i in range(len(xvals)):\n",
    "        y[i] = quad(g, x[i]-2500, x[i] + 2500)[0] \n",
    "x=x/1000\n",
    "plt.plot(x, y, 'm',label=\"GA_dist\")\n",
    "\n",
    "\n",
    "# Plot the estimated GMM PDF\n",
    "x=left*1000\n",
    "g = lambda x: model_moments_ln(x, mu_ln, sigma_ln)\n",
    "y = np.zeros(len(xvals))\n",
    "for i in range(len(xvals)):\n",
    "        y[i] = quad(g, x[i]-2500, x[i] + 2500)[0] \n",
    "x=x/1000\n",
    "plt.plot(x, y, 'g',label=\"IN_dist\")\n",
    "plt.legend()\n",
    "plt.show()"
   ]
  },
  {
   "cell_type": "markdown",
   "metadata": {},
   "source": [
    "# Part(e)"
   ]
  },
  {
   "cell_type": "code",
   "execution_count": 48,
   "metadata": {},
   "outputs": [
    {
     "name": "stdout",
     "output_type": "stream",
     "text": [
      "      fun: 2.124434778949746\n",
      " hess_inv: <2x2 LbfgsInvHessProduct with dtype=float64>\n",
      "      jac: array([-0.0002931,  0.       ])\n",
      "  message: b'CONVERGENCE: REL_REDUCTION_OF_F_<=_FACTR*EPSMCH'\n",
      "     nfev: 159\n",
      "      nit: 28\n",
      "   status: 0\n",
      "  success: True\n",
      "        x: array([1.40908038e+00, 4.46600398e+04])\n"
     ]
    }
   ],
   "source": [
    "W = np.identity(42)\n",
    "\n",
    "ga_args1 = (xvals, data_moments, W)\n",
    "results2 = opt.minimize(crit_ga, params_init1, args=(ga_args1), bounds = bnds1)\n",
    "print(results2)\n",
    "alpha_ga2, beta_ga2 = results2.x"
   ]
  },
  {
   "cell_type": "code",
   "execution_count": 50,
   "metadata": {},
   "outputs": [
    {
     "name": "stdout",
     "output_type": "stream",
     "text": [
      "      fun: -2665062953051903.0\n",
      " hess_inv: <2x2 LbfgsInvHessProduct with dtype=float64>\n",
      "      jac: array([-7.4500e+10,  1.2425e+11])\n",
      "  message: b'CONVERGENCE: REL_REDUCTION_OF_F_<=_FACTR*EPSMCH'\n",
      "     nfev: 18\n",
      "      nit: 4\n",
      "   status: 0\n",
      "  success: True\n",
      "        x: array([3.41345623e+00, 1.99999999e+04])\n"
     ]
    }
   ],
   "source": [
    "e = err_vec_ga(xvals, data_moments, alpha_ga2, beta_ga2)\n",
    "Omega_2 = np.outer(e.T, e) \n",
    "W1 = pinv(Omega_2)\n",
    "params_init2 = (3, 20000)\n",
    "ga_args3 = (xvals, data_moments, W1)\n",
    "results3 = opt.minimize(crit_ga, params_init2, args=(ga_args3), bounds = bnds1)\n",
    "print(results3)\n",
    "alpha_ga3, beta_ga3 = results3.x"
   ]
  },
  {
   "cell_type": "code",
   "execution_count": 51,
   "metadata": {},
   "outputs": [
    {
     "data": {
      "image/png": "[encoded data removed]",
      "text/plain": [
       "<Figure size 432x288 with 1 Axes>"
      ]
     },
     "metadata": {},
     "output_type": "display_data"
    }
   ],
   "source": [
    "width = np.hstack([np.ones(len(data[:,-1]) - 2)*5, 50, 100])\n",
    "\n",
    "plt.bar(left, np.hstack([data[:, 0][:-2], data[:, 0][-2]/10, data[:, 0][-1]/20]), width, edgecolor='k')\n",
    "plt.title('Income in US', fontsize=20)\n",
    "plt.xlabel('Income (thousand)')\n",
    "plt.ylabel('Frequency')\n",
    "\n",
    "\n",
    "x=left*1000\n",
    "g = lambda x: model_moments_ga(x,alpha_ga3, beta_ga3)\n",
    "y = np.zeros(len(xvals))\n",
    "for i in range(len(xvals)):\n",
    "        y[i] = quad(g, x[i]-2500, x[i] + 2500)[0] \n",
    "x=x/1000\n",
    "plt.plot(x, y, 'g')\n",
    "\n",
    "plt.show()\n",
    "\n"
   ]
  }
 ],
 "metadata": {
  "anaconda-cloud": {},
  "kernelspec": {
   "display_name": "Python 3",
   "language": "python",
   "name": "python3"
  },
  "language_info": {
   "codemirror_mode": {
    "name": "ipython",
    "version": 3
   },
   "file_extension": ".py",
   "mimetype": "text/x-python",
   "name": "python",
   "nbconvert_exporter": "python",
   "pygments_lexer": "ipython3",
   "version": "3.6.5"
  }
 },
 "nbformat": 4,
 "nbformat_minor": 1
}
