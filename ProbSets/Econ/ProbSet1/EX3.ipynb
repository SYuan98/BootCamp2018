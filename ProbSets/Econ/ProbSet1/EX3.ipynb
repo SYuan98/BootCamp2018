{
 "cells": [
  {
   "cell_type": "code",
<<<<<<< HEAD
   "execution_count": 1,
   "metadata": {},
   "outputs": [],
   "source": [
    "# Import packages\n",
    "import numpy as np\n",
    "import matplotlib.pyplot as plt\n",
    "\n",
    "# to print plots inline\n",
    "%matplotlib inline"
=======
   "execution_count": null,
   "metadata": {},
   "outputs": [],
   "source": [
    "import numpy as np\n",
    "import matplotlib.pyplot as plt"
>>>>>>> 18d6e7e96e512b2b1e81abaf908fd9500d87f885
   ]
  },
  {
   "cell_type": "code",
<<<<<<< HEAD
   "execution_count": 2,
   "metadata": {},
   "outputs": [],
   "source": [
    "lb_w = 0.4 \n",
    "ub_w = 2.0 \n",
    "size_w = 200  # Number of grid points\n",
    "w_grid = np.linspace(lb_w, ub_w, size_w)\n",
    "#create shocks\n",
    "import ar1_approx as ar1\n",
    "ln_z, pi_t = ar1.addacooper(4, 0, 0.8, 0.1)\n",
    "z = np.exp(ln_z)\n",
    "pi = np.transpose(pi_t)\n",
    "#consumptions\n",
    "C0 = np.zeros((size_w, size_w)) \n",
    "C1 = np.zeros((size_w, size_w))\n",
    "C2 = np.zeros((size_w, size_w))\n",
    "C3 = np.zeros((size_w, size_w))\n",
    "for i in range(size_w):\n",
    "    for j in range(size_w):\n",
    "        C0[i, j] = 0.95*w_grid[i]+z[0]*pow(w_grid[i],0.4)-w_grid[4]\n",
    "        C1[i, j] = 0.95*w_grid[i]+z[1]*pow(w_grid[i],0.4)-w_grid[4]\n",
    "        C2[i, j] = 0.95*w_grid[i]+z[2]*pow(w_grid[i],0.4)-w_grid[4]\n",
    "        C3[i, j] = 0.95*w_grid[i]+z[3]*pow(w_grid[i],0.4)-w_grid[4]\n",
    "C0[C0<=0] = 1e-15\n",
    "C1[C1<=0] = 1e-15\n",
    "C2[C2<=0] = 1e-15\n",
    "C3[C3<=0] = 1e-15\n",
    "U0=2*np.power(C0,0.5)\n",
    "U1=2*np.power(C1,0.5)\n",
    "U2=2*np.power(C2,0.5)\n",
    "U3=2*np.power(C3,0.5)\n",
    "expected_value=np.zeros(4)\n",
    "for i in range(0,4):\n",
    "    expected_value[i]=pi[i][0]*z[0]+pi[i][1]*z[1]+pi[i][2]*z[2]+pi[i][3]*z[3]"
   ]
  },
  {
   "cell_type": "markdown",
   "metadata": {},
   "source": [
    "## Step 3: Value Function Iteration"
   ]
  },
  {
   "cell_type": "code",
   "execution_count": 3,
   "metadata": {},
   "outputs": [
    {
     "name": "stdout",
     "output_type": "stream",
     "text": [
      "V0 converged after this many iterations: 106\n",
      "V1 converged after this many iterations: 246\n",
      "V2 did not converge\n",
      "V3 did not converge\n"
     ]
    }
   ],
   "source": [
    "\n",
    "VFtol = 1e-8 \n",
    "VFdist = 7.0 \n",
    "VFmaxiter = 3000 \n",
    "V0 =V1=V2=V3 =np.zeros(size_w) \n",
    "Vmat1 =Vmat0=Vmat2=Vmat3= np.zeros((size_w, size_w)) # initialize Vmat matrix\n",
    "Vstore0=Vstore1=Vstore2=Vstore3 = np.zeros((size_w, VFmaxiter)) #initialize Vstore array\n",
    "VFiter = 1 \n",
    "while VFdist > VFtol and VFiter < VFmaxiter:  \n",
    "    for i in range(size_w): # loop over w\n",
    "        for j in range(size_w): # loop over w'\n",
    "            Vmat0[i, j] = U0[i, j] + 0.96 * expected_value[0]*V0[j]       \n",
    "    Vstore0[:, VFiter] = V0.reshape(size_w,) # store value function at each iteration for graphing later\n",
    "    TV0 = Vmat0.max(1) # apply max operator to Vmat (to get V(w))\n",
    "    PF0 = np.argmax(Vmat0, axis=1)\n",
    "    VFdist = (np.absolute(V0 - TV0)).max()  # check distance\n",
    "    V0 = TV0\n",
    "    VFiter += 1 \n",
    "if VFiter < VFmaxiter:\n",
    "    print('V0 converged after this many iterations:', VFiter)\n",
    "else:\n",
    "    print('V0 did not converge')            \n",
    "VF0 = V0\n",
    "VFiter = 1 \n",
    "VFdist=7\n",
    "while VFdist > VFtol and VFiter < VFmaxiter:  \n",
    "    for i in range(size_w): # loop over w\n",
    "        for j in range(size_w): # loop over w'\n",
    "            Vmat1[i, j] = U1[i, j] + 0.96 * V1[j]*expected_value[1]      \n",
    "    Vstore1[:, VFiter] = V1.reshape(size_w,) # store value function at each iteration for graphing later\n",
    "    TV1 = Vmat1.max(1) # apply max operator to Vmat (to get V(w))\n",
    "    PF1 = np.argmax(Vmat1, axis=1)\n",
    "    VFdist = (np.absolute(V1 - TV1)).max()  # check distance\n",
    "    V1 = TV1\n",
    "    VFiter += 1 \n",
    "if VFiter < VFmaxiter:\n",
    "    print('V1 converged after this many iterations:', VFiter)\n",
    "else:\n",
    "    print('V1 did not converge')            \n",
    "VF1 = V1\n",
    "VFiter = 1 \n",
    "VFdist=7\n",
    "while VFdist > VFtol and VFiter < VFmaxiter:  \n",
    "    for i in range(size_w): # loop over w\n",
    "        for j in range(size_w): # loop over w'\n",
    "            Vmat2[i, j] = U2[i, j] + 0.96 * V2[j]*expected_value[2]     \n",
    "    Vstore2[:, VFiter] = V2.reshape(size_w,) # store value function at each iteration for graphing later\n",
    "    TV2 = Vmat2.max(1) # apply max operator to Vmat (to get V(w))\n",
    "    PF2 = np.argmax(Vmat2, axis=1)\n",
    "    VFdist = (np.absolute(V2 - TV2)).max()  # check distance\n",
    "    V2 = TV2\n",
    "    VFiter += 1 \n",
    "if VFiter < VFmaxiter:\n",
    "    print('V2 converged after this many iterations:', VFiter)\n",
    "else:\n",
    "    print('V2 did not converge')            \n",
    "VF2 = V2\n",
    "VFiter = 1 \n",
    "VFdist=7\n",
    "while VFdist > VFtol and VFiter < VFmaxiter:  \n",
    "    for i in range(size_w): # loop over w\n",
    "        for j in range(size_w): # loop over w'\n",
    "            Vmat3[i, j] = U0[i, j] + 0.96 * V3[j]*expected_value[3]       \n",
    "    Vstore3[:, VFiter] = V3.reshape(size_w,) # store value function at each iteration for graphing later\n",
    "    TV3 = Vmat3.max(1) # apply max operator to Vmat (to get V(w))\n",
    "    PF3 = np.argmax(Vmat3, axis=1)\n",
    "    VFdist = (np.absolute(V3 - TV3)).max()  # check distance\n",
    "    V3 = TV3\n",
    "    VFiter += 1 \n",
    "if VFiter < VFmaxiter:\n",
    "    print('V3 converged after this many iterations:', VFiter)\n",
    "else:\n",
    "    print('V3 did not converge')            \n",
    "VF3 = V3"
   ]
  },
  {
   "cell_type": "markdown",
   "metadata": {},
   "source": [
    "## Step 4: Extract decision rules from solution"
=======
   "execution_count": null,
   "metadata": {},
   "outputs": [],
   "source": [
    "from scipy.optimize import fminbound\n",
    "\n",
    "\n",
    "def bellman_operator(w, grid, β, u, f, shocks, Tw=None, compute_policy=0):\n",
    "    \n",
    "\n",
    "    w_func = lambda x: np.interp(x, grid, w)\n",
    "    if Tw is None:\n",
    "        Tw = np.empty_like(w)\n",
    "\n",
    "    if compute_policy:\n",
    "        σ = np.empty_like(w)\n",
    "    for i, y in enumerate(grid):\n",
    "        def objective(c):\n",
    "            return - u(c) - β * np.mean(w_func(f(y - c) * shocks))\n",
    "        c_star = fminbound(objective, 1e-10, y)\n",
    "        if compute_policy:\n",
    "            σ[i] = c_star\n",
    "        Tw[i] = - objective(c_star)\n",
    "\n",
    "    if compute_policy:\n",
    "        return Tw, σ\n",
    "    else:\n",
    "        return Tw"
>>>>>>> 18d6e7e96e512b2b1e81abaf908fd9500d87f885
   ]
  },
  {
   "cell_type": "code",
<<<<<<< HEAD
   "execution_count": 5,
   "metadata": {},
   "outputs": [],
   "source": [
    "\n",
    "optW0 = w_grid[PF0] \n",
    "optC0 = 0.95*w_grid+z[0]*pow(w_grid,0.4) - optW0 \n",
    "optW1 = w_grid[PF1] \n",
    "optC1 = 0.95*w_grid+z[0]*pow(w_grid,0.4) - optW0 \n",
    "optW2 = w_grid[PF2] \n",
    "optC2 = 0.95*w_grid+z[0]*pow(w_grid,0.4) - optW0  \n",
    "optW3 = w_grid[PF3] \n",
    "optC3 = 0.95*w_grid+z[0]*pow(w_grid,0.4) - optW0  "
   ]
  },
  {
   "cell_type": "markdown",
   "metadata": {},
   "source": [
    "## Visualize output"
=======
   "execution_count": null,
   "metadata": {},
   "outputs": [],
   "source": [
    "class LogLinearOG:\n",
    "   # y = f(k, z) = z k^α  and  z ~ LN(μ, s).\n",
    "\n",
    "    def __init__(self, α=0.4, β=0.96, μ=0.1, s=0.8):\n",
    "\n",
    "        self.α, self.β, self.μ, self.s = α, β, μ, s \n",
    "\n",
    "        self.ab = α * β\n",
    "        self.c1 = np.log(1 - self.ab) / (1 - β)\n",
    "        self.c2 = (μ + α * np.log(self.ab)) / (1 - α)\n",
    "        self.c3 = 1 / (1 - β)\n",
    "        self.c4 = 1 / (1 - self.ab)\n",
    "\n",
    "    def u(self, c):\n",
    "        c=pow(c,0.95)\n",
    "        c=c/0.95\n",
    "        return np.log(c)\n",
    "\n",
    "    def u_prime(self, c):\n",
    "        return pow(c,-0.95)\n",
    "\n",
    "    def f(self, k): \n",
    "        return k**self.α\n",
    "\n",
    "    def f_prime(self, k):\n",
    "        return self.α * k**(self.α - 1)\n"
>>>>>>> 18d6e7e96e512b2b1e81abaf908fd9500d87f885
   ]
  },
  {
   "cell_type": "code",
<<<<<<< HEAD
   "execution_count": 6,
   "metadata": {},
   "outputs": [
    {
     "data": {
      "text/plain": [
       "<Figure size 432x288 with 0 Axes>"
      ]
     },
     "metadata": {},
     "output_type": "display_data"
    },
    {
     "data": {
      "image/png": "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\n",
      "text/plain": [
       "<Figure size 432x288 with 1 Axes>"
      ]
     },
     "metadata": {},
     "output_type": "display_data"
    }
   ],
   "source": [
    "# Plot value function \n",
    "# Plot value function \n",
    "plt.figure()\n",
    "fig, ax = plt.subplots()\n",
    "ax.plot(w_grid[1:], VF0[1:], label='$\\epsilon$ = ' + str(z[0]))\n",
    "ax.plot(w_grid[1:], VF1[1:], label='$\\epsilon$ = ' + str(z[1]))\n",
    "ax.plot(w_grid[1:], VF2[1:], label='$\\epsilon$ = ' + str(z[2]))\n",
    "ax.plot(w_grid[1:], VF3[1:], label='$\\epsilon$ = ' + str(z[3]))\n",
    "# Now add the legend with some customizations.\n",
    "legend = ax.legend(loc='lower right', shadow=False)\n",
    "# Set the fontsize\n",
    "for label in legend.get_texts():\n",
    "    label.set_fontsize('large')\n",
    "for label in legend.get_lines():\n",
    "    label.set_linewidth(1.5)  # the legend line width\n",
    "plt.xlabel('k')\n",
    "plt.ylabel('Value Function')\n",
    "plt.title('Neoclassical Growth')\n",
    "plt.show()\n"
=======
   "execution_count": null,
   "metadata": {},
   "outputs": [],
   "source": [
    "lg = LogLinearOG()"
>>>>>>> 18d6e7e96e512b2b1e81abaf908fd9500d87f885
   ]
  },
  {
   "cell_type": "code",
<<<<<<< HEAD
   "execution_count": 7,
   "metadata": {},
   "outputs": [
    {
     "data": {
      "text/plain": [
       "<Figure size 432x288 with 0 Axes>"
      ]
     },
     "metadata": {},
     "output_type": "display_data"
    },
    {
     "data": {
      "image/png": "iVBORw0KGgoAAAANSUhEUgAAAZQAAAEWCAYAAABBvWFzAAAABHNCSVQICAgIfAhkiAAAAAlwSFlzAAALEgAACxIB0t1+/AAAADl0RVh0U29mdHdhcmUAbWF0cGxvdGxpYiB2ZXJzaW9uIDIuMi4yLCBodHRwOi8vbWF0cGxvdGxpYi5vcmcvhp/UCwAAIABJREFUeJzs3XmcTfX/wPHX29iyb1kyRIWxNaopFaVvpRCRdZRS6au+/WiRogjfUpbS3rdv0iaFsguRiq9SfSPGLjuDkH0ZzPL+/XHPzPcadzlj7sy9Zt7Px+M+Zs45n3M+73Pu3Pues75FVTHGGGOyq0C4AzDGGJM3WEIxxhgTEpZQjDHGhIQlFGOMMSFhCcUYY0xIWEIxxhgTEpZQTI4TkSEiMs75vbqIHBORqHDHFWrOel0S7jjyEhH5t4g8H+44jDuWUIxrIrJVRJKcL849IvKxiJTIyjJUdbuqllDV1BDGdZOIpDlxpb9mhmr5fvpcICIPeY9z1mtzTvabl4nI/SLyo/c4VX1EVV8MV0wmayyhmKxqo6olgCuBq4GBYY4n3S7nCz391SbcARmT31hCMedEVXcCc4AGACJykYjMEJEDIrJRRP7uaz4RqSEiKiIFneFyzp7OLhE5KCLTnPGrRKSN13yFROQvEWmUlThF5BMRGeo1fJOIJHoNbxWRviKyQkQOi8hEESnqNb2tiCwXkSMisklEWojIS8ANwDvO3tA7TlsVkcuc30uLyFgR2Sci20RkoIgUcKbdLyI/isirzjpvEZGWWVinpiKyWEQOicgOEbk/u3060zeLyFFn2j3O+IzDlc5w5vdvgYgMdeI5JiIzRaS8iHzubLPfRKSG1/wqIo85ff0lIq+ISAERqQv8G7jOWc4hP+/f352/rwPO39tFmZb9iIhscNbxXRERt9vVZJ8lFHNORKQa0ApY5owaDyQCFwEdgZdF5BYXi/oMKAbUByoCrzvjxwLdvNq1Anar6vLsR3+WzkALoCZwOXA/gIhc48TxNFAGuBHYqqoDgEVAL2dvqJePZb4NlAYuAZoB9wEPeE1vDKwHKgAjgQ/dfPmJSHU8ifxt4EKgEZC+Tc6pTxEpDrwFtFTVksD1Xst0Ix64F6gKXAr8DHwMlAPWAoMztb8LiMOzl9sWeFBV1wKPAD8727SMj3W/GRiG5/2qAmwDJmRq1hrPnnOs0+72LKyHySZLKCarpjn/Pf4ILMSTOKoBTYF+qnrS+dIfg+dLxi8RqQK0BB5R1YOqmqyqC53J44BWIlLKGb4XT/Lx5yLnP/b0V+csrNNbqrpLVQ8AM/F8SQP0AD5S1W9VNU1Vd6rqumALE88FB12AZ1X1qKpuBUZx5vbYpqofOOeSPsXzBVnJRaz3APNVdbyzvfar6vIQ9JkGNBCRC1R1t6qudhFLuo9VdZOqHsaT7Dap6nxVTQG+Aq7I1H6Eqh5Q1e3AG0BXl/3cg+f9+F1VTwHP4tmjqeHVZriqHnKW/QP/ey9NLrCEYrKqnaqWUdWLVfVRVU3Cs1dyQFWPerXbhuc/1kCqOfMdzDxBVXcBPwEdRKQMnsTzeYBl7XLiSn99mYV1+tPr9xNA+oUG1YBNWVhOugpAYTzbIF3m7ZHRp6qecH51c4GDv5jOuU9VPY4nGT0C7BaRWSIS4yKWdHu8fk/yMZx5vXZkivEi3LkIr/VT1WPAfvysI2e+lyYXWEIxobALKCciJb3GVQd2BplvhzPfWYc3HJ/iOezVCc+hkGDL8+U4nkNq6SpnYd4deA7h+BLoMd1/AcnAxV7j3GyP7MSUrT5Vda6qNsez17IO+MCZlJ3t50+1TDHuSg8jyHy78Fo/51BdeUKzXU0IWEIx2aaqO4DFwDARKSoil+M5XBRojwJV3Y3nEMm/RKSseE683+jVZBqe4+yP4zmXcS6W4zl0Vk5EKgNPZGHeD4EHROQW58RxVa//3PfgOVdxFueQ0pfASyJSUkQuBvrgOYwXlHMifIGfyZ8Dt4pIZxEp6JwAb5SdPkWkkojc6XxBnwKOAemXdS8HbhTP/UOl8Rxmyq6nnfe7Gp73dqIzfg8QLSKF/cz3BZ73o5GIFAFeBn51Du+ZCGAJxYRKV6AGnv8ipwKDVfVbF/Pdi+c/63XAXry+8J3DaZPxnCyfco5xfQYkAFuBefzvyysoVf0vnpParwOH8ZwzSv8P+U2go3M10Vs+Zu+N57/7zXjON30BfOSy62p4Dvf5imk7ngsUngIO4PnCj81mnwWc5e1yltkMeNTp71s822wFsBT42uU6BDLdWdZyYBaexA3wPbAa+FNE/so8k6p+BzyP529iN549tfgQxGNCRKzAlolkIjIIqK2q3YI2ziNEZDlwi6ruD3csoSYiCtRS1Y3hjsWEXsFwB2CMPyJSDs+hs4BXi+U1qmpXJpnzkh3yMhFJPDdG7gDmqOp/wh2PMSY4O+RljDEmJGwPxRhjTEjkq3MoFSpU0Bo1aoQ7DGOMOa8sXbr0L1W9MFi7fJVQatSowZIlS8IdhjHGnFdEZFvwVnbIyxhjTIhYQjHGGBMSYU0oIvKRiOwVkVV+pouIvOXUP1ghIld6Tevu1D3YICLdcy9qY4wxvoT7HMonwDv4f05TS6CW82oMvAc0dm54G4ynpoICS0Vkhq+n1gaTnJxMYmIiJ0+ePIfwjckbihYtSnR0NIUKFQp3KOY8FtaEoqr/yVTLILO2wFj13Czzi4iUcWpo3AR869SvQES+xVMgaXxWY0hMTKRkyZLUqFEDK+5m8iNVZf/+/SQmJlKzZs1wh2POY5F+DqUqZ9ZOSHTG+Rt/FhHpKSJLRGTJvn37zpp+8uRJypcvb8nE5FsiQvny5W0v3WRbpCcUX9/yGmD82SNVR6tqnKrGXXih78uoLZmY/M4+AyYUIj2hJHJmMZ5oPI/Y9jfeGGOMl2U/TObLu68m6fiRHO8r0hPKDOA+52qva4HDTlGmucBtTpGessBtzjhjjDHAwX07mdDjBgr0Hkitlcf4efroHO8z3JcNjwd+BuqISKKI9BCRR0TkEafJbDzFgjbiKUmaXvTnAPAi8JvzeiH9BL3x7cCBA9x1110UL16ciy++mC+++MJv261bt9KqVSvKli1L5cqV6dWrFykpKa6WtXbtWm6++WZKly7NZZddxtSpU7MUR6C+b7rpJooWLUqJEiUoUaIEderUyZjv1KlT9OjRg4svvpiSJUtyxRVXMGfOHNd9d+vWjSpVqlCqVClq167NmDFjXM8bbHu98847xMXFUaRIEe6///6ztnf6+qS/oqKi6N27t6vtlW7Dhg0ULVqUbt3OLhszYcIE6tatS/Hixbn00ktZtGiRz2WYvGPqiIdZ1fpWYn/6i82XFqLQB69x8919c75jVc03r6uuukozW7NmzVnj8qL4+Hjt3LmzHj16VBctWqSlSpXSVatW+WzbsmVL7d69uyYlJenu3bu1QYMG+uabbwZdVnJystaqVUtHjRqlKSkp+t1332mxYsV0/fr1ruMI1HezZs30gw8+8BnzsWPHdPDgwbplyxZNTU3VmTNnaokSJXTLli2u+l61apWePHlSVVXXrl2rlSpV0iVLlriaN9j2mjx5sk6dOlUfeeQR7d69e8D36dixY1q8eHFduHBhlt635s2ba9OmTfWee+45Y/y8efO0evXq+vPPP2tqaqomJiZqYmKiz77zy2chL1sy/0ud3qK+rqkTo99fH6Mz334qJMsFlqiL79iwf8nn5iuSE8qhQ4c0Pj5ey5cvryVKlNDY2FhNTU0NybKPHTumhQoVOuOLvVu3btqvXz+f7WNiYnTWrFkZw3379tWePXsGXdbKlSu1ePHimpaWljGtefPmOnDgQNdxBOo7UELxpWHDhjpp0qQsb4N169Zp5cqVdeLEia7mDRSztwEDBgRNKJ988onWrFlT09LSXMc8fvx47dSpkw4ePPishHLdddfpmDFjAvaZLlI+CybrDuxN1PEPNtHl9WJ0acMYHf/ozXrsyKGQLd9tQon0cyj5Rr9+/YiKimLbtm0cPnyYcePGUaDA2W9P69atKVOmjM9X69atfS77jz/+ICoqitq1a2eMi42NZfXq1T7bP/7440yYMIETJ06wc+dO5syZQ4sWLYIuy/N3dyZVZdWqVa7jCNQ3wLPPPkuFChVo0qQJCxYs8Bk/wJ49e/jjjz+oX7++674fffRRihUrRkxMDFWqVKFVq1au5g0Wc1Z8+umn3HfffYiIq5iPHDnCoEGDGDVq1FnLSk1NZcmSJezbt4/LLruM6OhoevXqRVJS0jnFZiLT1JGPOIe39rPpskJc8OHbxL/7HcVLls71WCyhRIhChQpRq1YtihUrRoECBWjQoIHPdl9//TWHDh3y+fr66699znPs2DFKlz7zj6t06dIcPXrUZ/tmzZqxevVqSpUqRXR0NHFxcbRr1y7osmJiYqhYsSKvvPIKycnJzJs3j4ULF3LixAnXcQTqe8SIEWzevJmdO3fSs2dP2rRpw6ZNm86KPzk5mXvuuYfu3bsTExPjuu9//etfHD16lEWLFtG+fXuKFCniat5AMWfF9u3bWbhwId27d3cd8/PPP0+PHj2oVq0ame3Zs4fk5GQmTZrEokWLWL58OcuWLWPo0KFZjs1EnmU/TGZGqwbEfLSQlCjY1Ls17aevoO7Vt4YtpnA/eiXi1Og/K+TL3Dr8jqBtYmJi6N+/PyNGjOD111/n4YcfDln/JUqU4MiRMy8ZPHLkCCVLljyrbVpaGrfffjsPP/wwixcv5tixYzz44IP069ePkSNHBlxWoUKFmDZtGr1792bEiBHExcXRuXPnjC/mYHEE67tx48YZ83Xv3p3x48cze/bsjBPY6cu49957KVy4MO+8806Wt0FUVBRNmzZl3LhxvPfeezz22GMB5w0Wc1aMHTuWpk2bZtytHizm5cuXM3/+fJYtW+ZzeRdccAEAvXv3pkqVKgD06dOHoUOH8tJLL2UpNhM5Du3fzTf9OlP3l7+ILgAJN19EmxFTwrJHkpkllEzcfPmH2owZM3jnnXf4/fffqVWrVsC2LVu29HuVzg033HDWlU0AtWvXJiUlhQ0bNmQsPyEhIeNwkLcDBw6wY8cOevXqRZEiRShSpAgPPPAAAwcOZOTIkUGXdfnll7Nw4cKM5V1//fUZ/3EHmzdY35mJyBmH2VSVHj16sGfPHmbPnn3Gc6mysg0AUlJSMvZ+As2b1ZgDGTt2LP3793cd84IFC9i6dSvVq1cHPHs0qamprFmzht9//52yZcsSHR1tNy3mIdNefZTyX/1A7GFYV6cQtZ97lfjGt4U7rP9xc6Ilr7wi9aT8Sy+9pLfccosePnxYVVW3bdumBw4cCGkfXbp00fj4eD127Jj++OOPAa/yqlmzpg4bNkyTk5P14MGD2q5dO7377rtdLSshIUGTkpL0+PHj+sorr2iNGjUyrp5yE4e/vg8ePKjffPONJiUlaXJyso4bN06LFSum69aty5j34Ycf1saNG+vRo0eztA327Nmj48eP16NHj2pKSop+8803WqxYMZ02bZqruINtr+TkZE1KStL+/ftrt27dMtbB208//aTFihXTI0eOuH7fjh8/rrt37854PfXUU9qhQwfdu3dvxvzPP/+8xsXF6Z49e/TAgQPatGnTjIskMouEz4Lx7fcFU3RaK8/VWz9cF6Mz3+qTq/1jV3mdPwll165d2rJlSy1VqpSWKlVKr7rqqjO+FEJh//792rZtWy1WrJhWq1ZNP//884xpLVq00JdeeiljeNmyZdqsWTMtU6aMli9fXjt27Kh79uxxtay+fftqmTJltHjx4tqiRQvdsGGD6zgC9b13716Ni4vTEiVKaOnSpbVx48Y6b968jPm2bt2qgBYpUkSLFy+e8Ro3blzQvvfu3as33nijli5dWkuWLKkNGjTQ0aNHu4472PYaPHiw4nk0UMZr8ODBZyy/Z8+e2q1btyy9b5n5usrr9OnT+o9//ENLly6tlSpV0t69e2tSUpLP+SPhs2DOdPCvXTr+oRt0ef0Y/b1BjI7/x9/06KH9uR6H24Qinrb5Q1xcnGYuAbx27Vrq1q0bpoiMiRz2WYgs00f1puxX87nwEKyrXYhaz42gwbUtwxKLiCxV1bhg7ewcijHGRJDli6azdcRA6mxMYU852PhoS+567LVwh+WKJRRjjIkARw7uZVa/jtRdvI8aAstvqkybEZMpUbpcuENzzRKKMcaE2YzXH6P0l9/S6CCsr1WQS54dTtfrc/+K0+yyhGKMMWGy4qeZbB72HHU2prC3LGx45DbaPfFmuMM6Z5ZQjDEmlx05uJfZ/TsTs3gPNRQSmlWi1fAvKVW2YrhDyxZLKMYYk4tmvPE4pSfOI/YgrL+sIJc8+zLxTdqEO6yQsIRijDG5YMXiWWwe1p86G5zDWw83p92Tb4U7rJAKa0IRkRbAm0AUMEZVh2ea/jrwN2ewGFBRVcs401KBlc607ap6Z+5EbYwx7h07fICZ/TpQ96c/qaGw/MaK3DHiq/P+8JYvYXvasIhEAe8CLYF6QFcRqefdRlWfVNVGqtoIeBuY4jU5KX2aJZPgslKxMVjVxXS+qgQGqj4IgSsjBqu6GGzZgeLKbtxu+vbXb7CKjeC/qmKw9yLYdLfbzOSMmW/1YUnLJjRa8CdbLy4I7w2n6+iFeTKZAOF79ApwHTDXa/hZ4NkA7RcDzb2Gj2W1z0h99EpucFv5z03VxXT+qgSmy1x9UDVwZUQ3VRcDLdttXOcSt5vp/pYbrGKjv6qKwd6LrLxXbtYrv3wWcsPKn2frlDYNdU2dGF3YOEanvfpouEPKFs6DAltVgR1ew4nOuLOIyMVATeB7r9FFRWSJiPwiIlkvPhFhDh8+TNeuXalQoQIlS5akUaNGpKWlhWTZx48fZ/Lkybz44ouUKFGCpk2bcuedd/LZZ5+d1XbdunXs2rWLJ598kqioKG6++WaaNGlyVtsJEyZQpkwZbrnlFr/9Tpo0iYoVK3LDDTdkjKtfv37G4+xFBBHJeKpv8eLFGTJkCDVq1KBAgQK0bt2amjVrsnTpUlfLdhPXucYdbHqg5bZv35527dpRvnx5n8sbPHgwgwYN4tprr6VAgQJUrVqVqlWrBn0v3L5XbtfLZN+xwweY8OjNJP+9D5dsTibhhgu5fNb3tH3q3XCHlivCmVB8PVPb34PF4oFJqprqNa66ep4tczfwhohc6rMTkZ5O4lmyb9++7EWcgyKlYqP6eLab6v+qLkLgKoHevKsPevNXGTGzzFUXgy07WFzZjdvfdLfL9SVQVcVg74Wb9yor62Wy5+t3+vJbyybEfr+b7dWjSHt7KPEf/Icy5auEO7RcE86Ekgh4l5mLBnb5aRsPjPceoaq7nJ+bgQXAFb5mVNXRqhqnqnEXXnhhdmPOMZFSsTFY1UUIXCUwXebqg978VUb05qvqYrBlB4sru3H7m+5muf4EqqoY7L1w8165XS9z7lb/Oo+pbS/n0ndmUTAV1vdoRttZq7jibx3CHVquC+dVXr8BtUSkJrATT9K4O3MjEakDlAV+9hpXFjihqqdEpALQBMhaNSN/huRA1bMhh4M2iZSKjcGqLgarEpguc/XBzHxVRkznr+pioGUHiytUcWee7na5/gSrqhjovQj2XmVlvUzWHT96mJn921N70S4uSYOEphVoMeLLfLVHklnYEoqqpohIL2AunsuGP1LV1SLyAp4TQDOcpl2BCXrm/n1d4H0RScOzlzVcVdeEJDAXX/6hFkkVGyFw1cVgVQLTZa4+6I93ZUQIXHUx0LKDxRWquDNPd7tcf4JVVQz0XriZ7na9TNbMGT2Aop9OIXY/bKgZRdW+g4m/pVO4wwo/N2fu88orUq/yirSKjYGqLrqpEuiv+qCbyojBqi76W3awuLITd6DpbpYbrGJjoKqKwSpgBpvuZr3SRcJnIdL9sfxHnXRXrK6pE6OLro7RKcP+Hu6QcgVWsfH8SSiRVrExWNVFb76qBPqrPhisMqKbqov+lu0mrnONOyt9+1pusIqNgaoqBnsv3LxXbrdZJHwWItXJE8d1/JOt9LfLY3RF3Rgd3/1a3f/n9nCHlWvcJhSr2GhV6owB7LPgz3efjyRt9CdE71E2VytA2Sf6cv0dD4Q7rFxlFRuNMSYbtm9I4NeBD1Iv4QRHi8OqLlfQ/vmxRBW0r01/bMsYY4yX1JQUJg+K5+JvVlMvCVZfWYImL33KtTXrBZ85n7OEYowxjkVT3+PYO2/TcKeyvYqQ1K8nnbs8Ee6wzhuWUIwx+d7enZv4of/d1Ft6hKKFYcWddWg/dCKFCp99T4/xzxKKMSbfSk1JYdqwHlSZ8V8uPwqrGxTlyhfe5+p614Q7tPOSJRRjTL7027zx/PnaUOptTWPXhXD0H13p+OCgcId1XrOEYozJVw7t3803z3Si7i/7qRoFCc2r0Xb4JC4oXircoZ33LKEYY/KN6aN6U/ar+cQegrV1ClF34GvEX31ruMPKM8L5tGGTi9xUDUwXrLrjTTfdRNGiRTOqANapU8fVtHT+qhMG6zvQOgSr9hhs2cEqH27dupVWrVpRtmxZKleuTK9evUhJSXE1b7BtH2j+YNsz0Lxutkl+sWLxLKa1bkjtD+aTVgA2/V8r2k9fQV1LJqHl5nb6vPKK1Eev5IZgVQO9Bavu2KxZM/3ggw98zhtomqr/6oRu+g60Dm6qPfpbtpvKhy1bttTu3btrUlKS7t69Wxs0aKBvvvmmq3kDxR1s/kDbM9i8WamAqZo3PwvHjhzS8f/4m/7eIEaX1Y/RL/5+ox4+sCfcYZ13sGd5nV8J5dChQxofH6/ly5fXEiVKaGxsrKampoa8nwEDBgRMKMeOHdNChQqd8YXYrVs37devX8ZwdhLKddddp2PGjDnnvt2sQ7qGDRvqpEmTgi575cqVWrx4cU1LS8uY1rx584wHNKqqxsTE6KxZszKG+/btqz179nQ1b6C4g80faHtmpW9f2ySzSPkshMqs957V76+P0TV1YnR6y/r6+4Ip4Q7pvOU2odghrwiRkxUbs8Jtdcdnn32WChUq0KRJExYsWOBqWqDqhFnp243M1R4DLdvzeTmT6pmVDx9//HEmTJjAiRMn2LlzJ3PmzKFFixau5g3Ezfz+tmdW+w5UATMvWb/8P0xu34iab0ylUDKsu/8G7py9iiua3RXu0PI8SygRIicrNmaFm+qOI0aMYPPmzezcuZOePXvSpk2bjJomgaYFqk7otm83fFV7DLRsN5UPmzVrxurVqylVqhTR0dHExcXRrl27LFVN9CXY/IG2Z1b6DlQBM684lXSCCU+24lj3h6m97hQJ15ah3sx53NV/dLhDyzfsKq9MGn7aMOTLXNl9ZdA2OVmxMSvcVHds3Lhxxu/du3dn/PjxzJ49m969ewecFqw6YVYqS/rjr9pjoGUHq3yYlpbG7bffzsMPP8zixYs5duwYDz74IP369WPkyJGuqyb6EqzvQNvTbcXGYBUw84L5nw1Hx4wl1uuJwPH57InAkSCsCUVEWgBv4qnYOEZVh2eafj/wCp4SwQDvqOoYZ1p3YKAzfqiqfhqKmNx8+YdaTldszIqsVncEEBGfh18yTwtWnfBc+vam6r/aY7BlB6p8eODAAXbs2EGvXr0oUqQIRYoU4YEHHmDgwIGMHDnSddVEf7Iyf+ZtHWzeQNskL/A8EfgB6iUk2ROBI4GbEy058cKTRDYBlwCFgQSgXqY29+NJIpnnLQdsdn6WdX4vG6zPSD0pnxsVG4NVDfQWqLrjwYMH9ZtvvsmYf9y4cVqsWDFdt25dwGnpAlUnDNZ3sHUIVu0x0LKDVT6sWbOmDhs2TJOTk/XgwYParl07vfvuu13NGyxuf/O72Z7B+g62TbxFwmfBrZTkZJ3Yv73+ckWMroqJ0Yld4zRx8+pwh5VnEelXeQHXAXO9hp8Fns3Uxl9C6Qq87zX8PtA1WJ+RmlByo2JjoKqBmSs2BqruuHfvXo2Li9MSJUpo6dKltXHjxjpv3ryg09IFqk4YrO9A6+Cm2mOgZQerfLhs2TJt1qyZlilTRsuXL68dO3bUPXv2uJo3WMVGf/O72Z6B+nazTbxFwmfBjUXT3tfZN9fVNXVi9Jub6uoPE14Pd0h5ntuEEraKjSLSEWihqg85w/cCjVW1l1eb+4FhwD7gD+BJVd0hIn2Boqo61Gn3PJCkqq/66Kcn0BOgevXqV23btu2M6ValzhiPSP8sHNizg3nPdKb+b4c4VRg23VqL9i9/ZU8EzgUhq9goIkWADkAN7/aq+kJ2AgR8HUjPnN1mAuNV9ZSIPAJ8Ctzscl7PSNXRwGjwlAA+93CNMeEy7ZVHqPDVQmKPwJr6RWg05F90aXh9uMMymbi5bHg60BZIAY57vbIrEajmNRwN7PJuoKr7VfWUM/gBcJXbeY0x579Vv8xhWuuG1PlwIckFYfPj7egweTmXWjKJSG4uhYhW1RY50PdvQC0RqYnnKq544G7vBiJSRVV3O4N3Amud3+cCL4tIWWf4NjznYIwxeUDS8SNM69eeOv/ZSY00WH5TJdqMmEKJ0uXCHZoJwE1CWSwiDVU1pNfTqmqKiPTCkxyigI9UdbWIvIDnBNAM4DERuRPP3tEBPCfpUdUDIvIinqQE8IKqHghlfMaY8Jj3yYtEffgFjfbBxppRRD/zT7r+rUO4wzIuuEkoTYH7RWQLcArP+QtV1cuz27mqzgZmZxo3yOv3Z/Gz56GqHwEfZTcGY0xk2L4hgV8HPEC9FUkcLgFr7m1Mu35j7J6S84ibd6pljkdhjMm3UlNSmDz4bi6es5K6SbDqqpI0G/Y511cPfJOviTxBE4qqbhORWOAGZ9QiVU3I2bCMMfnB4lkfc+iNV2m4I43tlYWkfj3p0uWJcIdlzpGby4YfB/4OTHFGjROR0ar6do5GZozJsw7u28ncZzpT/9cDFC4EK+64lPbDJts9Jec5N5cN98Bzw+Eg5/zGtXgSjDmPuK3Y6KbKX7du3ahSpQqlSpWidu3ajBkzJmNadioMpvNX0TFQv0BGn+mvqKgoevfuHXS628qG/uJyU6USYMOGDRQtWpRu3bq5jjvQsrP7XoXL9FG9WdX6VmJNSRQLAAAgAElEQVR/PsAfdQpT8tP36TLqa0smeUGwW+mBlXjuSk8fLgqsdHMbfqS9IvXRK7nBbcVGN1X+Vq1alfG8qLVr12qlSpV0yZIlqpq9CoOqgSs6BurX13oUL15cFy5cGHS6m3UOFFewomLpmjdvrk2bNtV77rnHb5vMcQdadnbfq8xy+rOw5r/f6pTWDXVNnRj94boYnfn2UznanwkdQlhg62PgVxEZIiJDgF+AD3MmveVfhw8fpmvXrlSoUIGSJUvSqFEj0tLSQrb89u3b065dO8qXLx+wXfHixRkyZAg1atSgQIECtG7dmpo1a7J06dKMNvXr1894RLqIICIZNToCWbduHbt27eLJJ58kKiqKm2++mSZNmvDZZ59ltBk8eDCDBg3i2muvpUCBAlStWpWqVatmud9JkyZRsWJFbrjhhqDT3axzoLjcmDBhAmXKlOGWW24J2C5Y3N5y8r0KpVNJJ5jw2O0k9ejNJZuTSbjhQq6ctZDWvc56UpI5zwVNKKr6GvAAnvtADgIPqOobOR1YfhMpFRsz81fl79FHH6VYsWLExMRQpUoVWrVqlTHtXCsMBqvoGKxfb59++in33Xef30flB5qeeZ3dxBWoguWRI0cYNGgQo0aN8hlLsLgCLTtQ3OncbrOcMP+z4fzn9quInbedXVUKkPzWYOI/+A+lylbMtRhMLvK36wKUcn6W8/Vys/sTaa9IPuTVq1cvHTJkyBn1wXOC23rsqp4nA99yyy3as2dPn9NTUlJ00aJF+uKLL+rp06dVVfWXX37RI0eO6MmTJ/WTTz7REiVK6MaNGzOWV7NmTR0xYoSePn1a586dq4UKFdLbbrtNVVV37typgF511VW6a9cu3bdvn15//fX63HPPBe3X27Zt27RAgQK6efNmn3EHmu5rnYPFFWidVVUfe+wxHT58uKp6njzs75CXr7iCLTtQ3N6CbTPV0H4Wtm9cqRO7XKmr6sTo4itj9Kt/3qspfsolmMhHCA55feH8XAos8XqlD+dJa2PqhvzlRkxMDK+++irFixfn/fffz+G1DM5Nlb+oqCiaNm1KYmIi7733HuCpMFiyZEmKFClC9+7dadKkCbNne+5dTa8wOGvWLCpXrsyoUaPo3Lkz0dHRAGdVdKxQoQJ9+vTJmD9Qv97Gjh1L06ZNqVmzps+4/U33t87B4gq0zsuXL2f+/Pk8+eSTAba2/7gCLTtY3N6CbbNQSU1J4atBXdnZqRP1E06w+ori1JgylY6DrOhVfuD3HVbV1s5P35/KPKruurXBG4VYJFVshKxX+UtJSfF7XD4rFQaDVXR02+/YsWPp37+/3/l8TQ+0zlmNy3udFyxYwNatW6levTrgqW2fmprKmjVr+P3337MUd+ZlB4vbl0DvVXb9d9449r06jAbb00isJJx4ugeduz6VI32ZCBVsFwb4zs248+EVqYe8Iq1iY6Aqf3v27NHx48fr0aNHNSUlRb/55hstVqyYTps2LSQVBv1VdAzUr7effvpJixUrpkeOHPG5bv6mB6ts6C+uYOt8/Phx3b17d8brqaee0g4dOpxVQM1XXG6257m+V76c62fh4F+7dPyDTXV5vRhd0jBGxz/RUk+eOH5OyzKRiexWbMRzeXA5PKV5y/K/8yc1gLVuFh5pr0hNKJFUsTFYlb+9e/fqjTfeqKVLl9aSJUtqgwYNdPTo0RnTslNhUNV/RcdA/Xrr2bOnduvWze928DXdTWXDQHEFW+fM74Ovcyi+4gq27Oy8V76cy2dhxptP6oJrY3RNnRidfGdDXbvkuywvw0Q+twnFb8VG5w75J4CLOLPWyBHgA1X1fbA2gsXFxemSJWee/on0KnXG5JasfBY2JPzEysGPUnfdafaWhSNdW9LmsddyOEITLtmu2KiqbwJvikhvtcesGGOA5NOnmDKgM5d++weXJUPC9eVo8cokypSvEu7QTARwc9nFGBHpg+cx9gosAv6tqidzNDJjTERZPOMDjrz5OpfvVLZEC2WefJr4Ox4Id1gmgrhJKJ8CR4H0vZSuwGdAp+x2LiItgDfxFNgao6rDM03vAzyEp8DWPuBBVd3mTEvF81gYgO2qemd24zHGnM3zIMdO1P/1IIUKw4p2dek49Eu7DNicxc1fRB1VjfUa/kFEsv34ehGJAt4FmuOpEf+biMxQ1TVezZYBcap6QkT+AYwEujjTklS1UXbjAM+FCW4vCTUmL/J3LnXmm09QevxcYg/BmnpFaPTPf3G11XM3frh5ltcyEbk2fUBEGgM/haDva4CNqrpZVU8DE4C23g1U9QdVPeEM/gJEh6DfMxQtWpT9+/f7/UAZk9epKvv376do0aIZ4zYk/MSUdrFc9t5cVGBT79Z0mLKcSy2ZmADc7KE0Bu4Tke3OcHVgrYisJHulgKsCO7yGE52+/OkBeN+1V1REluA5HDZcVaedSxDR0dEkJiayb9++c5ndmDyhaNGiREdHn3HSvdZpO+lussZNQmmRQ337OsbkczdBRLoBcUAzr9HVVXWXiFwCfC8iK1X1rFuARaQn0BPIuFvZW6FChfw+osOY/MT7pPvWqkLpPnbS3WSN2xLAZYFq3u1V9Xf/c7mS6CwzXTRn3u8CgIjcCgwAmqnqKa/+dzk/N4vIAuAK4KyEoqqjgdHguQ8lmzEbk+ecfdI9ho5Dv7KT7ibL3JQAfhG4H8+XdfoXsgI3Z7Pv34BaIlIT2AnEA3dn6vsK4H2gharu9RpfFjihqqdEpALQBM8Je2NMFthJdxNKbv4F6Qxc6pw4DxlVTRGRXsBcPJcNf6Sqq0XkBTy3+c8AXgFKAF85V2GlXx5cF3hfRNLwXFgwPNPVYcaYADLf6b6p1x10sIJXJpvcJJRVQBlgb7CGWaWqs4HZmcYN8vr9Vj/zLQYahjoeY/I6O+lucpKbhDIMz6XDqwDvcxh2I6Ex5xE76W5ymts75UfguSs9dEXOjTG5wk66m9zi5i/qL1V9K8cjMcaE3My3+lD6izl20t3kCjcJZamIDANmcOYhr+xeNmyMySF20t2Eg5uEcoXz81qvcaG4bNgYE2J20t2Ek5sbG/+WG4EYY7Jn8YwPOOx10r3Mk08R37pHuMMy+YibGxsH+Rqvqi+EPhxjTFYd2r+bb/p2pP6vByhcGFa2jeGuFydQqHCRcIdm8hk3h7yOe/1eFGgNrM2ZcIwxWTHrvWcpMXYasQdhbd3CNBzyLzrHNgl3WCafcnPIa5T3sIi8iucEvTEmTLZvSOC/z95P/VUn+as0bHjkNto/8Wa4wzL53LlciF4MuCTUgRhjgktNSWHq0O5Ez/idmCRYcXUpmr86iXKVqgWf2Zgc5uYcykr+91DIKOBCwM6fGJPLVvw0k61Dn6X+llQSKwlJzzxEl/g+4Q7LmAxu9lBae/2eAuxR1ZQciscYk8mppBNMfaYddRbsoDqQcGs0bUdM5oLipcIdmjFncFMCuCDwp6puA2oBj4pImZwNyxgDsOCrt1nYIo7Yb3eQWLUA+s7LxL/zrSUTE5Hc7KFMBuJE5DLgQzwn5L8AWuVkYMbkZwf37WRu3440+O8hjl8Aqzo3ov2gz+z5WyaiufnrTHNql7QH3lDVt0VkWU4HZkx+5f38rdX1i3DNyx/RuM6V4Q7LmKDcJJRkEekK3Ae0ccYVyrmQjMmftq5dwtIBD1FvzSn2lYFNvVvT8f9eCXdYxrjm5hzKA8B1wEuqusUp2TsuFJ2LSAsRWS8iG0Wkv4/pRURkojP9VxGp4TXtWWf8ehG5PRTxGBMOqSkpfDWwC3vvvpfa606RcG0ZGs6cT2tLJuY84+bGxjXAY17DW4Dh2e1YRKKAd4HmQCLwm4jMyFTKtwdwUFUvE5F4PHVZuohIPTw16OsDFwHzRaS2qqZmNy5jctOyHyazc/ggGmxLY0dl4WSvR4nv2CvcYRlzTtzch9IEGAJc7LQXQFU1uzc3XgNsVNXNTj8TgLaAd0Jp6/QNMAl4RzzF5dsCE1T1FLBFRDY6y/s5mzEZkyuSjh9h+tN3EfOfXVxUAJbffjHth0+hyAXFwh2aMefMzTmUD4EngaVAKPcAqgI7vIYTgcb+2jgXBhwGyjvjf8k0b1VfnYhIT6AnQPXq1UMSuDHZ8f34UaS9N4bYvbDhkihqDBxB1+vvCHdYxmSbm4RyWFXn5EDf4mOcumzjZl7PSNXRwGiAuLg4n22MyQ1/7d7Cd093ocHSoxwtBmvuvpp2z31klwKbPMPNX/IPIvIKMIXQVmxMBLwfQBQN7PLTJlFECgKlgQMu5zUmYsx4/THKjf+Wy4/AqoYX0Pjlj7m2Vmy4wzImpNwklPTDUHFe40JRsfE3oJZz1dhOPCfZ787UZgbQHc+5kY7A96qqIjID+EJEXsNzUr4W8N9sxmNMyHmX4t1TDrY8cRedHnk53GEZkyPCVrHROSfSC5iL56GTH6nqahF5AViiqjPwnL/5zDnpfgBP0sFp9yWeE/gpwP/ZFV4mkqSmpDB5cFdqzlqVUYq31aiplCpbMdyhGZNjRDXwaQURKQ0MBm50Ri0EXlDVwzkcW8jFxcXpkiVLwh2GyeOWL5pO4tDnuHRbGturCMWfeIKmbXuGOyxjzpmILFXVuGDt3Bzy+ghYBXR2hu8FPgban3t4xuQ9p5JOMKV/e2K+30ZVIOG26tw1YqpdCmzyDTcJ5VJV7eA1/E8RWZ5TARlzPlo84wOOvv46jXYrmy4uQPTAl4m/oW24wzImV7lJKEki0lRVf4SMGx2TcjYsY84Pxw4f4Oun2lLv578oVAhWdmhAh3+Ot0uBTb7k5q/+EWCscy4F4CBwf45FZMx5Yt4nQyk45nNi/4J1dQrR4IX36BzbJNxhGRM2bq7ySgBiRaSUM3wkx6MyJoL9tXsL3/ftTP2lxzhcAtY9cCN39Xs/3GEZE3Z+E4qI9MFzl/yH8L9EIiK9gShVfSN3QjQmcsx8qw9lx82h4RFYFXsB1w8fx/U164U7LGMiQqA9lAcBX1V9RuO5KdESisk3tq//nd+ee5B6q0+xt6zdoGiML4ESiqrqaR8jTzlP/DUmz0tNSWHqyw8SPe036iRBQuMytHhtCmXKVwl3aMZEnIDnUESkkqruyTwuZ0MyJjKs/W0+fwx5gvqbUkmsCCf7PUx8lyfCHZYxEStQQnkFmCUiTwHpD4K8ChgJvJrTgRkTLsmnTzH5uY7UmreRGmmQcHMV2r4yjQuKlwp3aMZENL8JRVXHisg+4AWgAZ4HQq4GBufQ4+yNCbvf5o1n38ihxCamsSW6ABc+M5D427qGOyxjzgsBD3k5icOSh8nzko4fYXrfdtRdtJtKBWBF61q0f/krChUuEu7QjDlv2O28Jt9bMPENkt99n9i98MelBak95HW6XH1ruMMy5rxjCcXkW4f27+abPu1p8N9DHL/AKigak132yTH50twPh1Dkw4nEHoA19Ytw9csf0biOr9uujDFuBbtT3i9VfS304RiTs7wfm3KoFGx45DY6PPFmuMMyJk8ItIdSMqc6FZFywESgBrAV6KyqBzO1aQS8B5QCUoGXVHWiM+0ToBmQXuTrflW1R+qbgL5+92lKj/2ahodhVWwxbnhlAk2q1wp3WMbkGYEuG/5nDvbbH/hOVYeLSH9nuF+mNieA+1R1g4hcBCwVkbmqesiZ/rSqTsrBGE0esXvbOn585m4aJCSxrwxsfrwdnf4xLNxhGZPnBD2HIiJFgR5AfaBo+nhVfTAb/bYFbnJ+/xRYQKaEoqp/eP2+S0T2AhcChzDGpRmvP0b5L76l3lFYcVVJmr82mXKVqoU7LGPypAIu2nwGVAZux1NPPho4ms1+K6nqbgDnZ8VAjUXkGqAwsMlr9EsiskJEXhcRvzcLiEhPEVkiIkv27duXzbDN+WL7hgQmdWhErfe/JbkQJD7TlS6f/9eSiTE5SFQ1cAORZap6hYisUNXLRaQQMFdVbw4y33w8iSizAcCnqlrGq+1BVS3rZzlV8OzBdFfVX7zG/YknyYwGNqnqCwFXBIiLi9MlS5YEa2bOc1OH96TyV4soeQJWNS5Di1H2MEdjskNElqpqXLB2bi4bTnZ+HhKRBni+yGsEm0lV/d4ZJiJ7RKSKqu52ksNeP+1KAbOAgenJxFn2bufXUyLyMdDXxXqYPG7zmv+y/NmHqLs+mV0XQlLfh4jv+lS4wzIm33CTUEaLSFngeWAGUAIYlM1+ZwDdgeHOz+mZG4hIYWAqMFZVv8o0LT0ZCdAOWJXNeMx5LDUlhalD76fajKXUOgkJTSvQetR0SpQuF+7QjMlXgh7yypFORcoDXwLVge1AJ1U9ICJxwCOq+pCIdAM+xvNAynT3q+pyEfkezwl6AZY78xwL1q8d8sp71i9bwNrne1NnYwqJlYSij/8fN7T/v3CHZUye4vaQl5tzKGWA+/Ac5srYo1HVx7IZY66zhJJ3pKakMHlwVy6ZtYpCybD2xiq0fdUeMW9MTgjlOZTZwC/ASiAtu4EZk12rfpnDln8+TcMtqWy7SCjzdD/iW3YPd1jG5HtuEkpRVQ34GBZjckNqSgqT+rfnsnkbqKaQcFt17hoxlSIXFAt3aMYYXN6HIiJ/F5EqIlIu/ZXjkRnjZdkPk/mmVSyXf72BPZUKkPrGC8S/NdeSiTERxM0eymk85YAH4KnaiPPzkpwKyph0yadPMbl/e+p8u5kqAivuuJT2wyZb4StjIpCbhNIHuExV/8rpYIzxtmzhVHYNHUjsjjQ2VS9A9cHD6dKkTbjDMsb44SahrMbzoEZjckVqSgqT+rWj1rebqIKnHG/H4VOs8JUxEc7NJzQVWC4iPwCn0keej5cNm8i3fNF0dr74HJdvT2Nz9QJUff5lutzQNtxhGWNccJNQpjkvY3JM+hVcteZt8OyV3HEpHUdMs70SY84jQT+tqvppbgRi8q8VP81k+wv9uXxbGpurFeCigUPp0uyucIdljMmiQCWAv1TVziKykv9d3ZVBVS/P0chMnpeaksKk5zpS65v1VFVIaHUJHYZPsSu4jDlPBdpDedz52To3AjH5y6pf5rBlSF8u35rGlugCVBnwAvF/6xDusIwx2RCoBHD6I+IfVdUzqimKyAjOLtlrTFCpKSlMGtiJy2av89zt3qIGHUZOs70SY/IAN3fKN/cxrmWoAzF53+pf5zG7TSMun7aOvRcKKW8MJv6NOZZMjMkjAp1D+QfwKHCJiKzwmlQS+CmnAzN5R2pKCpOf78Kls9dQLdXzDK4Or86wRGJMHhPoHMoXwBxgGNDfa/xRVT2Qo1GZPGPtb/PZMOgJz5OBqwrl+z1P/G1dwx2WMSYHBDqHchg4DHQVkSuBpniu9voJyFZCcR4uORFPjZWtQGdVPeijXSqex+YDbFfVO53xNYEJQDngd+BeVT2dnZhMaGXUK/l6FdVTIaF5NTqMmml7JcbkYUHPoYjI88CnQHmgAvCxiAzMZr/9ge9UtRbwHWfuAXlLUtVGzutOr/EjgNed+Q8CPbIZjwmh9csW8PWdjWg4eRV/lRdOvzaA+LfnWTIxJo9zU7FxLXCFqp50hi8AflfVuufcqch64CanLnwVYIGq1vHR7piqlsg0ToB9QGVVTRGR64Ahqnp7sH6tYmPOm/zCfVSb+htFTsOav1Wl/Ssz7BHzxpzn3FZsdHOV11agqNdwEWDTOcaVrlL6ZcnOz4p+2hUVkSUi8ouItHPGlQcOqWqKM5wIVPXXkYj0dJaxZN++fdkM2/izff3vTGkXS70vfuNwKeHEiL50fWe+JRNj8hE3D0o6BawWkW/xnENpDvwoIm+B/4dEish8oLKPSQOyEF91Vd0lIpcA3zt37R/x0c7vbpaqjgZGg2cPJQt9G5emj+pNxfHzqXUCEppWoM3rX1O8ZOlwh2WMyWVuEspU55VugZsFq+qt/qaJyB4RqeJ1yGuvn2Xscn5uFpEFwBXAZKCMiBR09lKigV1uYjKhtXfnJhY+2YkGK5L4szwkPfUQ8V2fCndYxpgwcZNQJgKX4dkL2JR+LiWbZgDdgeHOz+mZG4hIWeCEqp4SkQpAE2CkqqrzKP2OeK708jm/yVlzRg+gxIdTqHcYVlxditvfmEaZ8lXCHZYxJoz8nkMRkYIiMhLPOYpPgXHADhEZKSKFstnvcKC5iGzAcwhtuNNnnIiMcdrUBZaISALwAzBcVdc40/oBfURkI55zKh9mMx7j0qH9u5nY7RqqvzYFgB1PdaTLZ79aMjHG+L/KS0Rex3NX/JOqetQZVwp4Fc/lvI/7nDGC2VVe2fPd5yMp8O7HVD4Aq2IvoNlrX1Gx6qXhDssYk8PcXuUV6JBXa6C2emUcVT3iPJJlHf97GrHJ444fPczMJ+6gweL9HCkOGx5uTqcn3wp3WMaYCBMooaj62H1R1VQRsaul8onFMz7g+KjXid2jrK1bmLiRY7m+Vmy4wzLGRKBACWWNiNynqmO9R4pINzx7KCYPO5V0gql921B3wS4KFoY191xDh+eteKcxxr9ACeX/gCki8iCwFM9VXlcDFwBWnzUPW/rdV+x9eTCxO5U/Lo0i5qV/cU2jG8MdljEmwgV6OOROoLGI3AzUBwSYo6rf5VZwJnelpqTwVf+7qDN3IxUFVt5Vjw4vTiSqoJury40x+V3QbwpV/R74PhdiMWG0ftkC1j/Xi9gtqWyuXoBqg4fTuUmbcIdljDmP2L+ehinDHiL6y5+4ONmKXxljzp0llHzsz+0b+LFPZ+qvOsnOilCsbx/i7/x7uMMyxpynLKHkU3M/HEKx0ROpewQSGpeh9VuzKFG6XLjDMsacxyyh5DPHjx5m5mMtafjLQQ6WhB19OhL/9xfDHZYxJg+whJKPLJ71McdHvkLsHmVN/SJc/9oEqlwcE+6wjDF5hCWUfCA1JYWv+rYhZv5WChaCNfc2psOAT8IdljEmj7GEksetW/o9Gwb0JnZrGhtrFKDWS2/T4aqbwx2WMSYPsoSSh01+6X6qTfqVasmQ0LImnV6ZYTcpGmNyjH275EG7t61jcZ946q0+RWIlofgzTxN/xwPhDssYk8dZQslj5oweQMkxU4g5CgnXlaPNW7OtvrsxJlf4rdiYk0SknIh8KyIbnJ9lfbT5m4gs93qdFJF2zrRPRGSL17RGub8WkeXY4QNM6H4d1V+bggok9u1C/Mc/WTIxxuSacO2h9Ae+U9XhItLfGe7n3UBVfwAagScBARuBeV5NnlbVSbkUb0T79ZuxHBk2nNg9yuoGRWn62pdUrl4r3GEZY/KZcCWUtsBNzu+fAgvIlFAy6YjnSccncjas80tqSgqTB3Si1ux1lImCNfdeR8cBH4U7LGNMPhWWQ15AJVXdDeD8rBikfTwwPtO4l0RkhYi8LiJ+n2QoIj1FZImILNm3b1/2oo4g2zckMOOuK2k4fR27Kxfggn+/RgdLJsaYMBIfVX5Ds2CR+UBlH5MGAJ+qahmvtgdV9azzKM60KsAK4CJVTfYa9ydQGBgNbFLVF4LFFBcXp0uWLMnyukSa2f9+jtIfTqXUcVh1Y2Xavz6LIhcUC3dYxpg8SkSWqmpcsHY5dshLVW/1N01E9ohIFVXd7SSHvQEW1RmYmp5MnGXvdn49JSIfA31DEnSE834O1/7SsOfZ7nS9t3+4wzLGGCB8h7xmAN2d37sD0wO07Uqmw11OEkJEBGgHrMqBGCPKku8m8GOb64j9+SBr6xUhZvLX3GrJxBgTQcJ1Un448KWI9AC2A50ARCQOeERVH3KGawDVgIWZ5v9cRC7EU5Z4OfBI7oSd+1JTUpg8uCuXzVxFBYHV8VfRcci4cIdljDFnCUtCUdX9wC0+xi8BHvIa3gpU9dEuXzyMaueWNfz6RDwN1yeztapQZcgwOt7QNtxhGWOMT3anfISa++EQir8/kdpHIeGGC7nrrW/sxLsxJqJZQokwScePMP2xO2i4+C8OlIJd/e4m/v7nwx2WMcYEZQklgixfNJ0/Bz9L7C5lTd3CXP/GRCuAZYw5b1hCiRCTX+zOxZP+S0WFVR0vp9PQieEOyRhjssQSSpgd2r+bbx+9gwYJSeyoJJQf9E863dIp3GEZY0yWWUIJo8WzPiZp+Ega7IMVcaW44905lChdLtxhGWPMObGEEgapKSlMGtiZOrPWUrAgrH/ob3Tp+69wh2WMMdliCSWX/bl9A4sf78jla0+zJboAF7/0Ou0a3xbusIwxJtssoeSiHya8RoE3P6DOIUhoWoG73p5r95YYY/IMSyi5IDUlhS+fak39+ds4fgFsfawd8f8YFu6wjDEmpCyh5LDt639nWZ/7aLQplQ01o2gw6iOuq3dNuMMyxpiQs4SSg+aOGUyJ97/kkuOQcGs0nd6YQ1RB2+TGmLzJvt1yQPLpU0zqdRsNF+3lQGnYO+AB4u95JtxhGWNMjrKEEmKbVi5mbd+/02hbGuvqFOLat760x6cYY/IFSyghNHfMYEr++0uqJUFC68voNHyqHeIyxuQbYanYKCKdRGS1iKQ5RbX8tWshIutFZKOI9PcaX1NEfhWRDSIyUUQK507kvqWmpDDh0VuoOupLUgrCwUEPE//qTEsmxph8JVwlgFcB7YH/+GsgIlHAu0BLoB7QVUTqOZNHAK+rai3gINAjZ8P1b/uGBL6+sxGx3+9i46UFuXT8ZG7q8kS4wjHGmLAJS0JR1bWquj5Is2uAjaq6WVVPAxOAtk4d+ZuBSU67T/HUlc91330+ku33xHPJ1lQSmlejzbRlVK1ZL/iMxhiTB4VrD8WNqsAOr+FEZ1x54JCqpmQa75OI9BSRJSKyZN++fSEJLDUlhQlPtuLClz9GFHY/czfxb8+zQ1zGmHwtx74BRWQ+UNnHpAGqOt3NInyM0wDjfVLV0cBogLi4OL/t3Ppz+wZ+7t2B2PXJbKwZRcPXPqFGXb+ngYwxJt/IsYSiqrdmcxGJQDWv4WhgF/AXUEZECjp7Kenjc9n5oYoAAAb+SURBVNyiKe+S9so71D4ECc0q0eHtuRQqXCQ3ujbGmIgXyYe8fgNqOVd0FQbigRmqqsAPQEenXXfAzR5Ptkzs356Sg96hyGnnWVzvL7BkYowxXsJ12fBdIpIIXAfMEpG5zviLRGQ2gLP30QuYC6wFvlTV1c4i+gF9RGQjnnMqH+ZUrKkpKUzqdAWXT1vLzioFKPvh+9xhD3Y0xpizhOUssqpOBab6GL8LaOU1PBuY7aPdZjxXgeW4qIIFSbmwHAnXneSuf31rj5s3xhg/7LIkF+L/9V24QzDGmIgXyedQjDHGnEcsoRhjjAkJSyjGGGNCwhKKMcaYkLCEYowxJiQsoRhjjAkJSyjGGGNCwhKKMcaYkBDPo7HyBxHZB2w7h1kr4HkoZaSxuLLG4sq6SI3N4sqa7MZ1sapeGKxRvkoo50pElqhqxD2j3uLKGosr6yI1Nosra3IrLjvkZYwxJiQsoRhjjAkJSyjujA53AH5YXFljcWVdpMZmcWVNrsRl51CMMcaEhO2hGGOMCQlLKMYYY0LCEopDRFqIyHoR2Sgi/QO06ygiKiK5cmmgm7hEpLOIrBGR1SLyRW7E5SY2EakuIj+IyDIRWSEirXwtJ8QxfSQie0VklZ/pIiJvOTGvEJErczqmLMR2jxPTChFZLCKxkRCXV7urRSRVRDpGSlwicpOILHf+9hdGQlwiUlpEZopIghPXA7kUVzXn87bW6fdxH21y9u9fVfP9C4gCNgGXAIWBBKCej3Ylgf8AvwBxkRAXUAtYBpR1hitGyjbDcyLwH87v9YCtuRDXjcCVwCo/01sBcwABrgV+zcW/s2CxXe/1PrbMrdiCxeX1fn+PpyR3x0iICygDrAGqO8O59bcfLK7ngBHO7xcCB4DCuRBXFeBK5/eSwB8+PpM5+vdveyge1wAbVXWzqp4GJgBtfbR7ERgJnIyguP4OvKuqBwFUdW8ExaZAKef30sCunA5KVf+D5wPsT1tgrHr8ApQRkSo5HZeb2FR1cfr7iOefluhIiMvRG5gM5Nbfl5u47gamqOp2p32uxOYiLgVKiogAJZy2KbkQ125V/d35/SiwFqiaqVmO/v1bQvGoCuzwGk4k0xshIlcA1VT160iKC6gN1BaRn0TkFxFpEUGxDfn/9u4nxKoyDuP494kxKmoRTbToD2NRJkgQFRUWZEFBRBm1KEhR3ElRESG0KGjfn0WEkIUQ/SFCnFk5tBFcWGggDSaFZITQooImmhalPi3eMzJdppnbdM55r/B8dnPuYc4D8975vf94D/CUpJOUnu0z/URb0jC5R8E2Sk+yOklXAo8CO2tnGXADcKmk/ZK+lLS5dqDGW8BaSgdqBnjW9pk+A0iaAG4Gvhj4qNP2P9bWLzrHaZFrZ/dTSzoPeAPY0leg+Ucvcm1wn/cYZdrrHkqP9oCkdbZ/HYFsTwK7bb8m6U7g/SZbr1+uAcPkrkrSBkpBuat2lsabwA7bp0une2SMAbcA9wEXAgclfW7727qxeAA4AtwLXAd8JumA7d/6eLikiymjyecWeWan7T8jlOIkcPWCn6/in9MzlwDrgP2SvqfMPU71sDC/XK75eyZt/2X7BPANpcB0bZhs24BPAGwfBC6gHFJX0zC5q5F0E7ALeMT2L7XzNG4FPm7a/uPA25I21o0ElL/lPttztn+mrG/2spFhGVspU3G2fRw4AdzYx4MlraIUkw9s71nklk7bfwpKcQi4XtJqSecDTwBT8x/anrU9bnvC9gRlfvth24dr5mrsBTYASBqnTAN813GuYbP9QOk9ImktpaD81EO2pUwBm5vdLncAs7Z/rJwJKLvigD3AphHoZZ9le/WCtv8psN323sqxACaBuyWNSboIuJ2yblDbwnZ/BbCGHr6TzZrNu8Ax26//y22dtv9MeQG2T0l6Gpim7GZ5z/ZRSa8Ch20P/qMcpVzTwP2SvgZOAy/20bMdMtsLwDuSnqcMq7e42WrSFUkfUab/xpu1m1eAVU3mnZS1nAeB48AflN5kL4bI9jJwGWUEAHDKPZwQO0SuKpbLZfuYpH3AV8AZYJftJbc+95GLsnlnt6QZyhTTjmYE1bX1wCZgRtKR5tpLwDULsnXa/nP0SkREtCJTXhER0YoUlIiIaEUKSkREtCIFJSIiWpGCEhERrUhBiahI0sRyp/xGnCtSUCIiohUpKBEjQtK1Ku+Oua12loiVSEGJGAGS1lDOYNpq+1DtPBErkaNXIuq7nHIu1WO2j9YOE7FSGaFE1DdLeUfF+tpBIv6PjFAi6vsT2AhMS/rd9oe1A0WsRApKxAiwPSfpIcrLmOZsT9bOFPFf5bThiIhoRdZQIiKiFSkoERHRihSUiIhoRQpKRES0IgUlIiJakYISERGtSEGJiIhW/A0BFDpPaIiUZwAAAABJRU5ErkJggg==\n",
      "text/plain": [
       "<Figure size 432x288 with 1 Axes>"
      ]
     },
     "metadata": {},
     "output_type": "display_data"
    }
   ],
   "source": [
    "#Plot optimal consumption rule as a function of cake size\n",
    "plt.figure()\n",
    "fig, ax = plt.subplots()\n",
    "ax.plot(w_grid[1:], optC0[1:], label='$\\epsilon$ = ' + str(z[0]))\n",
    "ax.plot(w_grid[1:], optC1[1:], label='$\\epsilon$ = ' + str(z[1]))\n",
    "ax.plot(w_grid[1:], optC2[1:], label='$\\epsilon$ = ' + str(z[2]))\n",
    "ax.plot(w_grid[1:], optC3[1:], label='$\\epsilon$ = ' + str(z[3]))\n",
    "# Now add the legend with some customizations.\n",
    "legend = ax.legend(loc='upper left', shadow=False)\n",
    "# Set the fontsize\n",
    "for label in legend.get_texts():\n",
    "    label.set_fontsize('large')\n",
    "for label in legend.get_lines():\n",
    "    label.set_linewidth(1)  # the legend line width\n",
    "plt.xlabel('k')\n",
    "plt.ylabel('Optimal Consumption')\n",
    "plt.title('Policy Function, consumption')\n",
    "plt.show()"
=======
   "execution_count": null,
   "metadata": {},
   "outputs": [],
   "source": [
    "grid_max = 4        \n",
    "grid_size = 200      \n",
    "shock_size = 250    \n",
    "\n",
    "grid = np.linspace(1e-5, grid_max, grid_size)\n",
    "shocks = np.exp(0.1 + 0.8 * np.random.randn(shock_size))"
>>>>>>> 18d6e7e96e512b2b1e81abaf908fd9500d87f885
   ]
  },
  {
   "cell_type": "code",
<<<<<<< HEAD
   "execution_count": 34,
   "metadata": {},
   "outputs": [
    {
     "data": {
      "text/plain": [
       "<Figure size 432x288 with 0 Axes>"
      ]
     },
     "metadata": {},
     "output_type": "display_data"
    },
    {
     "data": {
      "image/png": "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\n",
      "text/plain": [
       "<Figure size 432x288 with 1 Axes>"
      ]
     },
     "metadata": {},
     "output_type": "display_data"
    }
   ],
   "source": [
    "#Plot cake to leave rule as a function of cake size\n",
    "plt.figure()\n",
    "fig, ax = plt.subplots()\n",
    "ax.plot(w_grid[1:], optW0[1:], label='$\\epsilon$ = ' + str(z[0]))\n",
    "ax.plot(w_grid[1:], optW1[1:], label='$\\epsilon$ = ' + str(z[1]))\n",
    "ax.plot(w_grid[1:], optW2[1:], label='$\\epsilon$ = ' + str(z[2]))\n",
    "ax.plot(w_grid[1:], optW3[1:], label='$\\epsilon$ = ' + str(z[3]))\n",
    "# Now add the legend with some customizations.\n",
    "legend = ax.legend(loc='upper left', shadow=False)\n",
    "# Set the fontsize\n",
    "for label in legend.get_texts():\n",
    "    label.set_fontsize('large')\n",
    "for label in legend.get_lines():\n",
    "    label.set_linewidth(1.5)  # the legend line width\n",
    "plt.xlabel('k')\n",
    "plt.ylabel('Optimal K_next_period')\n",
    "plt.title('Policy Function, K_next_period')\n",
    "plt.show()"
=======
   "execution_count": null,
   "metadata": {},
   "outputs": [],
   "source": [
    "def solve_optgrowth(initial_w, tol=1e-6, max_iter=500):\n",
    "\n",
    "    w = initial_w  # Set initial condition\n",
    "    error = tol + 1\n",
    "    i = 0\n",
    "\n",
    "\n",
    "    Tw = np.empty(len(grid))\n",
    "\n",
    "    # Iterate to find solution\n",
    "    while error > tol and i < max_iter:\n",
    "        w_new = bellman_operator(w,\n",
    "                                 grid,\n",
    "                                 0.96,\n",
    "                                 np.log,\n",
    "                                 lambda k: k**α,\n",
    "                                 shocks,\n",
    "                                 Tw)\n",
    "        error = np.max(np.abs(w_new - w))\n",
    "        w[:] = w_new\n",
    "        i += 1\n",
    "\n",
    "    return w"
>>>>>>> 18d6e7e96e512b2b1e81abaf908fd9500d87f885
   ]
  },
  {
   "cell_type": "code",
   "execution_count": null,
   "metadata": {},
   "outputs": [],
<<<<<<< HEAD
   "source": []
=======
   "source": [
    "initial_w = 5 * np.log(grid)\n",
    "\n",
    "fig, ax = plt.subplots(figsize=(9, 5))\n",
    "ax.set_ylim(-35, -24)\n",
    "ax.plot(grid, solve_optgrowth(initial_w), lw=2, alpha=0.6, label='approximate value function')\n",
    "ax.legend(loc='lower right')\n",
    "plt.show()"
   ]
>>>>>>> 18d6e7e96e512b2b1e81abaf908fd9500d87f885
  }
 ],
 "metadata": {
  "kernelspec": {
   "display_name": "Python 3",
   "language": "python",
   "name": "python3"
  },
  "language_info": {
   "codemirror_mode": {
    "name": "ipython",
    "version": 3
   },
   "file_extension": ".py",
   "mimetype": "text/x-python",
   "name": "python",
   "nbconvert_exporter": "python",
   "pygments_lexer": "ipython3",
   "version": "3.6.5"
  }
 },
 "nbformat": 4,
 "nbformat_minor": 2
}
