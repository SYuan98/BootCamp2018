{
 "cells": [
  {
   "cell_type": "code",
   "execution_count": 8,
   "metadata": {},
   "outputs": [],
   "source": [
    "# Problem 1 \n",
    "def dot(A,B):\n",
    "    import numpy as np\n",
    "    A=np.array([[3,-1,4],[1,5,-9]])\n",
    "    B=np.array([[2,6,-5,3],[5,-8,9,7],[9,-3,-2,-3]])\n",
    "    return np.dot(A,B)\n",
    "\n"
   ]
  },
  {
   "cell_type": "code",
   "execution_count": 10,
   "metadata": {},
   "outputs": [
    {
     "data": {
      "text/plain": [
       "array([[ 37,  14, -32, -10],\n",
       "       [ 87, -34,  13,  29]])"
      ]
     },
     "execution_count": 10,
     "metadata": {},
     "output_type": "execute_result"
    }
   ],
   "source": [
    ">>> dot(A,B)\n"
   ]
  },
  {
   "cell_type": "code",
   "execution_count": 37,
   "metadata": {},
   "outputs": [],
   "source": [
    "# Problem 2\n",
    "def f():\n",
    "    import numpy as np\n",
    "    A=np.array([[3,1,4],[1,5,9],[-5,3,1]])\n",
    "    B=np.dot(A,A)\n",
    "    return 9*np.dot(A,A)-15*A-np.dot(A,B)\n",
    "\n"
   ]
  },
  {
   "cell_type": "code",
   "execution_count": 38,
   "metadata": {},
   "outputs": [
    {
     "data": {
      "text/plain": [
       "array([[0, 0, 0],\n",
       "       [0, 0, 0],\n",
       "       [0, 0, 0]])"
      ]
     },
     "execution_count": 38,
     "metadata": {},
     "output_type": "execute_result"
    }
   ],
   "source": [
    ">>> f()"
   ]
  },
  {
   "cell_type": "code",
   "execution_count": 60,
   "metadata": {},
   "outputs": [],
   "source": [
    "# Problem 3\n",
    "def g():\n",
    "    import numpy as np\n",
    "    A1=np.ones((7,7),dtype=np.int)\n",
    "    A=np.triu(A1)\n",
    "    B1=np.full_like(A,5)\n",
    "    B2=np.full_like(A,-1)\n",
    "    B3=np.tril(B2)\n",
    "    B4=np.triu(B1)\n",
    "    B5=np.diag([5,5,5,5,5,5,5])\n",
    "    B6=B3+B4\n",
    "    B=B6-B5\n",
    "    AB=np.dot(A,B)\n",
    "    matrix=np.dot(AB,A)\n",
    "    matrix=matrix.astype(np.int64)\n",
    "    return matrix \n"
   ]
  },
  {
   "cell_type": "code",
   "execution_count": 61,
   "metadata": {},
   "outputs": [
    {
     "data": {
      "text/plain": [
       "array([[ -7,  -8,  -3,   8,  25,  48,  77],\n",
       "       [ -6, -12, -12,  -6,   6,  24,  48],\n",
       "       [ -5, -10, -15, -14,  -7,   6,  25],\n",
       "       [ -4,  -8, -12, -16, -14,  -6,   8],\n",
       "       [ -3,  -6,  -9, -12, -15, -12,  -3],\n",
       "       [ -2,  -4,  -6,  -8, -10, -12,  -8],\n",
       "       [ -1,  -2,  -3,  -4,  -5,  -6,  -7]])"
      ]
     },
     "execution_count": 61,
     "metadata": {},
     "output_type": "execute_result"
    }
   ],
   "source": [
    ">>> g()\n"
   ]
  },
  {
   "cell_type": "code",
   "execution_count": 66,
   "metadata": {},
   "outputs": [],
   "source": [
    "# Problem 4\n",
    "def h(y):\n",
    "    import numpy as np\n",
    "    A=np.copy(y)\n",
    "    mask=A<0\n",
    "    A[mask]=0\n",
    "    return A\n"
   ]
  },
  {
   "cell_type": "code",
   "execution_count": 69,
   "metadata": {},
   "outputs": [
    {
     "data": {
      "text/plain": [
       "array([1, 1, 1, 0, 0, 0])"
      ]
     },
     "execution_count": 69,
     "metadata": {},
     "output_type": "execute_result"
    }
   ],
   "source": [
    "h([1,1,1,0,-1,-1])"
   ]
  },
  {
   "cell_type": "code",
   "execution_count": 99,
   "metadata": {},
   "outputs": [],
   "source": [
    "# Problem 5\n",
    "def k():\n",
    "    import numpy as np\n",
    "    A=np.arange(6).reshape((2,-1))\n",
    "    B1=np.zeros((3,3))\n",
    "    B2=np.full_like(B1,3)\n",
    "    B=np.tril(B2)\n",
    "    C=np.diag([-2,-2,-2])\n",
    "    I=np.diag([1,1,1])\n",
    "    C1=np.vstack((np.zeros((3,3)),A,B))\n",
    "    C2=np.vstack((A.T,np.zeros((2,2)),np.zeros((3,2))))\n",
    "    C3=np.vstack((I,np.zeros((2,3)),C))\n",
    "    matrix=np.hstack((C1,C2,C3))\n",
    "    return matrix         \n",
    "                \n",
    "                 \n"
   ]
  },
  {
   "cell_type": "code",
   "execution_count": 100,
   "metadata": {
    "scrolled": true
   },
   "outputs": [
    {
     "data": {
      "text/plain": [
       "array([[ 0.,  0.,  0.,  0.,  3.,  1.,  0.,  0.],\n",
       "       [ 0.,  0.,  0.,  1.,  4.,  0.,  1.,  0.],\n",
       "       [ 0.,  0.,  0.,  2.,  5.,  0.,  0.,  1.],\n",
       "       [ 0.,  1.,  2.,  0.,  0.,  0.,  0.,  0.],\n",
       "       [ 3.,  4.,  5.,  0.,  0.,  0.,  0.,  0.],\n",
       "       [ 3.,  0.,  0.,  0.,  0., -2.,  0.,  0.],\n",
       "       [ 3.,  3.,  0.,  0.,  0.,  0., -2.,  0.],\n",
       "       [ 3.,  3.,  3.,  0.,  0.,  0.,  0., -2.]])"
      ]
     },
     "execution_count": 100,
     "metadata": {},
     "output_type": "execute_result"
    }
   ],
   "source": [
    "k()"
   ]
  },
  {
   "cell_type": "code",
   "execution_count": 132,
   "metadata": {},
   "outputs": [],
   "source": [
    "# Problem 6\n",
    "def j(A):\n",
    "    import math\n",
    "    import numpy as np\n",
    "    A1=np.array(A) \n",
    "    B=A1.sum(axis=1).reshape((3,1))\n",
    "    return A1/B\n"
   ]
  },
  {
   "cell_type": "code",
   "execution_count": 134,
   "metadata": {},
   "outputs": [
    {
     "data": {
      "text/plain": [
       "array([[0.33333333, 0.33333333, 0.33333333],\n",
       "       [0.22222222, 0.55555556, 0.22222222],\n",
       "       [0.33333333, 0.33333333, 0.33333333]])"
      ]
     },
     "execution_count": 134,
     "metadata": {},
     "output_type": "execute_result"
    }
   ],
   "source": [
    "j([[1,1,1],[2,5,2],[3,3,3]])"
   ]
  },
  {
   "cell_type": "code",
   "execution_count": 143,
   "metadata": {},
   "outputs": [],
   "source": [
    "# Problem 7\n",
    "def p():\n",
    "    import numpy as np\n",
    "    grid=np.load(\"grid.npy\")\n",
    "    A=np.max(grid[:,:-3]*grid[:,1:-2]*grid[:,2:-1]*grid[:,3:])\n",
    "    B=np.max(grid[:-3,:]*grid[1:-2,:]*grid[2:-1,:]*grid[3:,:])\n",
    "    C=np.max(grid[:-3,3:]*grid[1:-2,2:-1]*grid[2:-1,1:-2]*grid[3:,:-3])\n",
    "    D=np.max(grid[:-3,:-3]*grid[1:-2,1:-2]*grid[2:-1,2:-1]*grid[3:,3:])\n",
    "    M=np.max([A,B,C,D])\n",
    "    return M"
   ]
  },
  {
   "cell_type": "code",
   "execution_count": 144,
   "metadata": {},
   "outputs": [
    {
     "data": {
      "text/plain": [
       "70600674"
      ]
     },
     "execution_count": 144,
     "metadata": {},
     "output_type": "execute_result"
    }
   ],
   "source": [
    "p()"
   ]
  },
  {
   "cell_type": "code",
   "execution_count": null,
   "metadata": {},
   "outputs": [],
   "source": []
  }
 ],
 "metadata": {
  "kernelspec": {
   "display_name": "Python 3",
   "language": "python",
   "name": "python3"
  },
  "language_info": {
   "codemirror_mode": {
    "name": "ipython",
    "version": 3
   },
   "file_extension": ".py",
   "mimetype": "text/x-python",
   "name": "python",
   "nbconvert_exporter": "python",
   "pygments_lexer": "ipython3",
   "version": "3.6.5"
  }
 },
 "nbformat": 4,
 "nbformat_minor": 2
}
