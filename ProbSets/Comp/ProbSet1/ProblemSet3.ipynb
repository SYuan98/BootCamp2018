{
 "cells": [
  {
   "cell_type": "code",
   "execution_count": 47,
   "metadata": {},
   "outputs": [],
   "source": [
    "# Problem 1 Corrected solution \n",
    "def smallest_factor(n):\n",
    "    if n==1: return 1\n",
    "    for i in range(2, (int(n**.5)+1)):\n",
    "        if n%i==0: return i\n",
    "    return n \n"
   ]
  },
  {
   "cell_type": "code",
   "execution_count": 50,
   "metadata": {
    "scrolled": true
   },
   "outputs": [
    {
     "data": {
      "text/plain": [
       "241"
      ]
     },
     "execution_count": 50,
     "metadata": {},
     "output_type": "execute_result"
    }
   ],
   "source": [
    "smallest_factor(58081)"
   ]
  },
  {
   "cell_type": "code",
   "execution_count": null,
   "metadata": {},
   "outputs": [],
   "source": [
    "# Problem 2\n",
    "import length\n",
    "import pytest\n",
    "def test_length():\n",
    "    assert length.month_length(\"January\")==31, \"January\"\n",
    "    assert length.month_length(\"February\")==28, \"February\"\n",
    "    assert length.month_length(\"March\")==31, \"March\"\n",
    "    assert length.month_length(\"April\")==30, \"April\"\n",
    "    assert length.month_length(\"May\")==31, \"May\"\n",
    "    assert length.month_length(\"June\")==30, \"June\"\n",
    "    assert length.month_length(\"July\")==31, \"July\"\n",
    "    assert length.month_length(\"August\")==31, \"August\"\n",
    "    assert length.month_length(\"September\")==30, \"September\"\n",
    "    assert length.month_length(\"October\")==31, \"October\"\n",
    "    assert length.month_length(\"November\")==30, \"November\"\n",
    "    assert length.month_length(\"December\")==31, \"December\"\n",
    "    assert length.month_length(\"J\")== None, \"Else\"\n",
    "    \n"
   ]
  },
  {
   "cell_type": "code",
   "execution_count": null,
   "metadata": {},
   "outputs": [],
   "source": [
    "# Problem 3\n",
    "import pytest\n",
    "import operate\n",
    "def test_operate():\n",
    "    with pytest.raises(TypeError) as excinfo:\n",
    "        operate.operate(1,1,0)\n",
    "    assert excinfo.value.args[0] == \"oper must be a string\"\n",
    "    assert operate.operate(1,1,'+')==2,\"addition\"\n",
    "    assert operate.operate(1,1,'-')==0,\"subtraction\"\n",
    "    assert operate.operate(1,1,'*')==1,\"multiplication\"\n",
    "    assert operate.operate(1,1,'/')==1,\"division\"\n",
    "    with pytest.raises(ZeroDivisionError) as excinfo:\n",
    "        operate.operate(1,0,'/')\n",
    "    assert excinfo.value.args[0]==\"division by zero is undefined\"\n",
    "    with pytest.raises(ValueError) as excinfo:\n",
    "        operate.operate(1,1,'%')\n",
    "    assert excinfo.value.args[0] == \"oper must be one of '+', '/', '-', or '*'\"\n"
   ]
  },
  {
   "cell_type": "code",
   "execution_count": null,
   "metadata": {},
   "outputs": [],
   "source": [
    "# Problem 4 corrected solution \n",
    "def __add__(self, other):\n",
    "         return Fraction(self.numer*other.denom + self.denom*other.numer,self.denom*other.denom)\n",
    "def __sub__(self, other):\n",
    "         return Fraction(self.numer*other.denom - self.denom*other.numer,self.denom*other.denom)\n"
   ]
  },
  {
   "cell_type": "code",
   "execution_count": null,
   "metadata": {},
   "outputs": [],
   "source": [
    "# Problem 5\n",
    "import Problem_6\n",
    "import pytest\n",
    "def test_count_sets():\n",
    "    with pytest.raises(ValueError) as excinfo:\n",
    "        count_sets([\"1022\"])\n",
    "    assert excinfo.value.args[0]==\"not exactly 12 cards\"\n",
    "    with pytest.raises(ValueError) as excinfo:\n",
    "        count_sets([\"1022\",\"1022\", \"0100\", \"2021\",\n",
    "         \"0010\", \"2201\", \"2111\", \"0020\",\n",
    "         \"1102\", \"0210\", \"2110\", \"1020\"])\n",
    "    assert excinfo.value.args[0]==\"not unique 12 cards\"\n",
    "    with pytest.raises(ValueError) as excinfo:\n",
    "        count_sets([\"1022\",\"1125\", \"0100\", \"2021\",\n",
    "         \"0010\", \"2201\", \"2111\", \"0020\",\n",
    "         \"1102\", \"0210\", \"2110\", \"1020\"])\n",
    "    assert excinfo.value.args[0]==\"invalid inputs\"\n",
    "    \n",
    "    \n",
    "    \n",
    "    \n",
    "    \n",
    "    \n",
    "    \n",
    "    "
   ]
  },
  {
   "cell_type": "code",
   "execution_count": null,
   "metadata": {},
   "outputs": [],
   "source": []
  },
  {
   "cell_type": "code",
   "execution_count": 76,
   "metadata": {},
   "outputs": [],
   "source": [
    "# Problem 6\n",
    "from itertools import combinations\n",
    "def count_sets(cards):\n",
    "    if len(cards)!= 12:\n",
    "        raise ValueError(\"not exactly 12 cards\")\n",
    "    for i in range (0,12):\n",
    "        for j in range(i+1, 12):\n",
    "            if cards[i]==cards[j]:\n",
    "                raise ValueError(\"not unique 12 cards\")\n",
    "        if len(cards[i])!=4:\n",
    "            raise ValueError(\"invalid inputs\")\n",
    "    for i in range (0,12):\n",
    "        for j in range (0,4):\n",
    "            if int(cards[i][j]) not in range(0,3):\n",
    "                raise ValueError(\"invalid inputs\")            \n",
    "    L=list(combinations(cards, 3))\n",
    "    k=len(L)\n",
    "    count=0\n",
    "    for i in range(0, k):\n",
    "        a=L[i][0]\n",
    "        b=L[i][1]\n",
    "        c=L[i][2]\n",
    "        if is_set(a,b,c):\n",
    "            count=count+1\n",
    "            print(a,b,c)\n",
    "        else:\n",
    "            pass\n",
    "    print(\"the number of sets in the list is: \", count)       \n",
    "    \n",
    "def is_set(a,b,c):\n",
    "    for i in range(0,4):\n",
    "        A,B,C=int(a[i]),int(b[i]),int(c[i])\n",
    "        if A+B+C ==0 or A+B+C== 3 or A+B+C== 6:\n",
    "            if (A==B and B==C) or (A!=B and A!=C and B!=C and A!=B):\n",
    "                pass\n",
    "            else: return False\n",
    "        else:\n",
    "            return False\n",
    "    return True \n",
    "    "
   ]
  },
  {
   "cell_type": "code",
   "execution_count": 77,
   "metadata": {},
   "outputs": [
    {
     "name": "stdout",
     "output_type": "stream",
     "text": [
      "1022 2021 0020\n",
      "1122 0100 2111\n",
      "1122 0010 2201\n",
      "0100 0020 0210\n",
      "2021 2201 2111\n",
      "2021 1102 0210\n",
      "the number of sets in the list is:  6\n"
     ]
    }
   ],
   "source": [
    "count_sets([\"1022\", \"1122\", \"0100\", \"2021\",\n",
    "         \"0010\", \"2201\", \"2111\", \"0020\",\n",
    "         \"1102\", \"0210\", \"2110\",\"1020\"])"
   ]
  },
  {
   "cell_type": "code",
   "execution_count": null,
   "metadata": {},
   "outputs": [],
   "source": []
  }
 ],
 "metadata": {
  "kernelspec": {
   "display_name": "Python 3",
   "language": "python",
   "name": "python3"
  },
  "language_info": {
   "codemirror_mode": {
    "name": "ipython",
    "version": 3
   },
   "file_extension": ".py",
   "mimetype": "text/x-python",
   "name": "python",
   "nbconvert_exporter": "python",
   "pygments_lexer": "ipython3",
   "version": "3.6.5"
  }
 },
 "nbformat": 4,
 "nbformat_minor": 2
}
