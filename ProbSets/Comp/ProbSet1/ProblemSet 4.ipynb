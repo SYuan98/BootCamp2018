{
 "cells": [
  {
   "cell_type": "code",
   "execution_count": 21,
   "metadata": {},
   "outputs": [
    {
     "name": "stdout",
     "output_type": "stream",
     "text": [
      "Shirley red\n",
      "[]\n",
      "['A']\n",
      "No room\n",
      "[]\n"
     ]
    }
   ],
   "source": [
    "# Problem 1\n",
    "class Backpack:\n",
    "    def  __init__(self, name, color,max_size):\n",
    "        self.name=name\n",
    "        self.contents=[]\n",
    "        self.color=color\n",
    "        self.max_size=max_size\n",
    "    def put(self, item):\n",
    "        print(self.contents)\n",
    "        if len(self.contents)<self.max_size:\n",
    "            self.contents.append(item)\n",
    "        else:\n",
    "            print(\"No room\")\n",
    "    def dump(self):\n",
    "        self.contents=[]\n",
    "b=Backpack(\"Shirley\",\"red\",1)\n",
    "print(b.name,b.color)\n",
    "b.put(\"A\")\n",
    "b.put(\"B\")\n",
    "b.dump()\n",
    "print(b.contents)\n",
    "\n",
    "        "
   ]
  },
  {
   "cell_type": "code",
   "execution_count": 33,
   "metadata": {},
   "outputs": [
    {
     "ename": "SyntaxError",
     "evalue": "invalid syntax (<ipython-input-33-01b6ede989b5>, line 20)",
     "output_type": "error",
     "traceback": [
      "\u001b[0;36m  File \u001b[0;32m\"<ipython-input-33-01b6ede989b5>\"\u001b[0;36m, line \u001b[0;32m20\u001b[0m\n\u001b[0;31m    J.\u001b[0m\n\u001b[0m      ^\u001b[0m\n\u001b[0;31mSyntaxError\u001b[0m\u001b[0;31m:\u001b[0m invalid syntax\n"
     ]
    }
   ],
   "source": [
    "# Problem 2\n",
    "class Jetpack(Backpack):\n",
    "    def  __init__(self, name, color,max_size=2,fuel=10):\n",
    "        Backpack.__init__(self, name, color, max_size)\n",
    "        self.fuel=fuel\n",
    "    def fly(self, f):\n",
    "        if f<=self.fuel:\n",
    "            self.fuel=self.fuel-f\n",
    "        else:\n",
    "            print(\"not enough fuel\")\n",
    "    def dump(self):\n",
    "        Backpack.dump(self)\n",
    "        self.fuel=0\n",
    "J=Jetpack(\"s\",\"e\",2,10)\n",
    "print(J.fuel,J.max_size)\n",
    "J.fly(10)\n",
    "print(J.fuel)\n",
    "J.dump\n",
    "print(J.contents, J.fuel)"
   ]
  },
  {
   "cell_type": "code",
   "execution_count": 91,
   "metadata": {},
   "outputs": [],
   "source": [
    "# Problem 3\n",
    "class Backpack:\n",
    "    def  __init__(self, name, color,max_size):\n",
    "        self.name=name\n",
    "        self.contents=[]\n",
    "        self.color=color\n",
    "        self.max_size=max_size\n",
    "    def put(self, item):\n",
    "        if len(self.contents)<self.max_size:\n",
    "            self.contents.append(item)\n",
    "        else:\n",
    "            print(\"No room\")\n",
    "    def dump(self):\n",
    "        self.contents=[]\n",
    "    def __eq__(self, other):\n",
    "        return (self.name==other.name) and (self.color==other.color) and(len(self.contents)==len(other.contents))\n",
    "    def __str__(self):\n",
    "        a=\"owner: \"+ self.name+'\\n'\n",
    "        b=\"color: \"+ self.color+'\\n'\n",
    "        c=\"size: \"+str(len(self.contents))+'\\n'\n",
    "        d=\"max size: \"+ str(self.max_size)+'\\n'\n",
    "        e=\"contents: \"+str(self.contents)\n",
    "        return a+b+c+d+e\n",
    "    \n",
    "a,b=Backpack(\"a\",\"red\",10),Backpack(\"a\",\"red\",10)\n",
    "a.put(\"A\")\n",
    "a.put(\"B\")\n"
   ]
  },
  {
   "cell_type": "code",
   "execution_count": 39,
   "metadata": {},
   "outputs": [
    {
     "data": {
      "text/plain": [
       "True"
      ]
     },
     "execution_count": 39,
     "metadata": {},
     "output_type": "execute_result"
    }
   ],
   "source": [
    "a==b"
   ]
  },
  {
   "cell_type": "code",
   "execution_count": 92,
   "metadata": {},
   "outputs": [
    {
     "name": "stdout",
     "output_type": "stream",
     "text": [
      "owner: a\n",
      "color: red\n",
      "size: 2\n",
      "max size: 10\n",
      "contents: ['A', 'B']\n"
     ]
    }
   ],
   "source": [
    "print(a)"
   ]
  },
  {
   "cell_type": "code",
   "execution_count": 134,
   "metadata": {},
   "outputs": [],
   "source": [
    "# Problem 4\n",
    "class ComplexNumber:\n",
    "    def  __init__(self, real,imag):\n",
    "        self.real=real\n",
    "        self.imag=imag\n",
    "    def conjugate(self):\n",
    "        return ComplexNumber(self.real, -1*(self.imag))\n",
    "    def __str__(self):\n",
    "        if self.imag>=0:\n",
    "            b=\"+\"+str(self.imag)+\"j\"\n",
    "        else:\n",
    "            b=str(self.imag)+\"j\"\n",
    "        return str(self.real)+b\n",
    "    def __abs__(self):\n",
    "        import math as m\n",
    "        return m.sqrt(self.real*self.real+self.imag*self.imag)\n",
    "    def __eq__(self,other) :\n",
    "        return self.real==other.real and self.imag==other.imag\n",
    "    def __add__(self,other):\n",
    "        r=self.real+other.real\n",
    "        i=self.imag+other.imag\n",
    "        return ComplexNumber(r,i)\n",
    "    def __sub__(self,other):\n",
    "        r=self.real-other.real\n",
    "        i=self.imag-other.imag\n",
    "        return ComplexNumber(r,i)\n",
    "    def __mul__(self,other):\n",
    "        r=self.real*other.real-self.imag*other.imag\n",
    "        i=self.real*other.imag+self.imag*other.real\n",
    "        return ComplexNumber(r,i)\n",
    "    def __truediv__(self,other):\n",
    "        r=(self.real*other.real+self.imag*other.imag)/(other.real*other.real+other.imag*other.imag)\n",
    "        i=(self.imag*other.real-self.real*other.imag)/(other.real*other.real+other.imag*other.imag)\n",
    "        return ComplexNumber(r,i)\n",
    "def test_ComplexNumber(a,b):\n",
    "    c1,c2=complex(a,b),ComplexNumber(a,b)\n",
    "    if c2.real!=a or c2.imag!=b:\n",
    "        print(\"__init__() set self.real and self.imag incorrectly\")\n",
    "    if c1.conjugate().imag != c2.conjugate().imag:\n",
    "        print(\"conjugate() failed for\", c1)\n",
    "    if str(c1) != \"(\"+str(c2)+\")\":\n",
    "        print(\"__str__() failed for\", c1)\n",
    "    if abs(c1)!=abs(c2) :\n",
    "        print(\"abs() failed for\", c1)\n",
    "    if (c1==c1)!=(c2==c2):\n",
    "        print(\"eq() failed for\", c1)\n",
    "    if (c1+c1)!=(c2+c2):\n",
    "        print(\"add failed for\",c1)\n",
    "    if (c1-c1)!=(c2-c2):\n",
    "        print(\"sub failed for\",c1)\n",
    "    if (c1*c1)!=(c2*c2):\n",
    "        print(\"mul failed for\",c1)\n",
    "    if (c1/c1)!=(c2/c2):\n",
    "        print(\"truediv failed for\",c1)"
   ]
  },
  {
   "cell_type": "code",
   "execution_count": 135,
   "metadata": {},
   "outputs": [],
   "source": [
    "test_ComplexNumber(1,1)"
   ]
  },
  {
   "cell_type": "code",
   "execution_count": null,
   "metadata": {},
   "outputs": [],
   "source": []
  }
 ],
 "metadata": {
  "kernelspec": {
   "display_name": "Python 3",
   "language": "python",
   "name": "python3"
  },
  "language_info": {
   "codemirror_mode": {
    "name": "ipython",
    "version": 3
   },
   "file_extension": ".py",
   "mimetype": "text/x-python",
   "name": "python",
   "nbconvert_exporter": "python",
   "pygments_lexer": "ipython3",
   "version": "3.6.5"
  }
 },
 "nbformat": 4,
 "nbformat_minor": 2
}
