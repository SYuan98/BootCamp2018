{
 "cells": [
  {
   "cell_type": "code",
   "execution_count": 20,
   "metadata": {},
   "outputs": [],
   "source": [
    "# Problem 1\n",
    "def arithmagic():\n",
    "    step_1 = input(\"Enter a 3-digit number where the first and last \"\n",
    "                                           \"digits differ by 2 or more: \")\n",
    "    if len(step_1)!=3:\n",
    "        raise ValueError(\"input must be a 3-digit number\")\n",
    "    if int(step_1[2])-int(step_1[0])<2:\n",
    "        raise ValueError(\"1st and 3rd digits differ by less than 2\")\n",
    "    step_2 = input(\"Enter the reverse of the first number, obtained \"\n",
    "                                              \"by reading it backwards: \")\n",
    "    if step_2[2]!=step_1[0] or step_2[1]!=step_1[1] or step_2[0]!=step_1[2]:\n",
    "        raise ValueError(\"2nd number is not the reverse of the 1st number\")\n",
    "    step_3 = input(\"Enter the positive difference of these numbers: \")\n",
    "    if int(step_2)-int(step_1)<0:\n",
    "        difference=int(step_1)-int(step_2)\n",
    "    else:\n",
    "        difference=int(step_2)-int(step_1)\n",
    "    if int(step_3)!=difference:\n",
    "        raise ValueError(\"3rd number is not the positive difference of the first two numbers\")\n",
    "    step_4 = input(\"Enter the reverse of the previous result: \")\n",
    "    if step_4[2]!=step_3[0] or step_4[1]!=step_3[1] or step_4[0]!=step_3[2]:\n",
    "        raise ValueError(\"4th number is not the reverse of the 3rd number\")\n",
    "    print(str(step_3), \"+\", str(step_4), \"= 1089 (ta-da!)\")"
   ]
  },
  {
   "cell_type": "code",
   "execution_count": 22,
   "metadata": {},
   "outputs": [
    {
     "name": "stdout",
     "output_type": "stream",
     "text": [
      "Enter a 3-digit number where the first and last digits differ by 2 or more: 123\n",
      "Enter the reverse of the first number, obtained by reading it backwards: 321\n",
      "Enter the positive difference of these numbers: 198\n",
      "Enter the reverse of the previous result: 891\n",
      "198 + 891 = 1089 (ta-da!)\n"
     ]
    }
   ],
   "source": [
    "arithmagic()"
   ]
  },
  {
   "cell_type": "code",
   "execution_count": null,
   "metadata": {},
   "outputs": [],
   "source": [
    "# Problem 2\n",
    "from random import choice\n",
    "def random_walk(max_iters=1e10):\n",
    "        walk = 0\n",
    "        directions = [1, -1]\n",
    "        for i in range(int(max_iters)):\n",
    "            try:\n",
    "                walk += choice(directions)\n",
    "            except KeyboardInterrupt as k:\n",
    "                print(\"process interrupted at iteration \",i) \n",
    "            else:\n",
    "                print(\"process completed\")\n",
    "            finally:\n",
    "                return walk\n"
   ]
  },
  {
   "cell_type": "code",
   "execution_count": 3,
   "metadata": {},
   "outputs": [],
   "source": [
    "# Problem 3\n",
    "class ContentFilter:\n",
    "    def __init__(self, filename):\n",
    "        while True:\n",
    "            try:\n",
    "                myfile=open(filename,'r')\n",
    "            except (FileNotFoundError, TypeError,OSError) as f:\n",
    "                filename=input(\"enter a valid name: \")\n",
    "            else:\n",
    "                break\n",
    "    \n",
    "        myfile=open(filename,'r')\n",
    "        contents=myfile.readlines()\n",
    "        myfile.close()\n",
    "        self.name=filename\n",
    "        self.contents=\"\".join(contents)\n"
   ]
  },
  {
   "cell_type": "code",
   "execution_count": 4,
   "metadata": {},
   "outputs": [
    {
     "name": "stdout",
     "output_type": "stream",
     "text": [
      "enter a valid name: hello.txt\n"
     ]
    }
   ],
   "source": [
    "c=ContentFilter(\"hello\")"
   ]
  },
  {
   "cell_type": "code",
   "execution_count": 86,
   "metadata": {},
   "outputs": [],
   "source": [
    "# Problem 4\n",
    "class ContentFilter:\n",
    "    def __init__(self, filename):\n",
    "        while True:\n",
    "            try:\n",
    "                myfile=open(filename,'r')\n",
    "            except (FileNotFoundError, TypeError,OSError) as f:\n",
    "                filename=input(\"enter a valid name: \")\n",
    "            else:\n",
    "                break\n",
    "    \n",
    "        myfile=open(filename,'r')\n",
    "        contents=myfile.readlines()\n",
    "        myfile.close()\n",
    "        self.name=filename\n",
    "        self.contents=\"\".join(contents)\n",
    "        self.c=contents\n",
    "    def uniform(self, name, mode='w',case=\"upper\"):\n",
    "        if mode not in ['w','x','a']:\n",
    "            raise ValueError(\"invalid mode\")\n",
    "        if case not in [\"upper\",\"lower\"]:\n",
    "            raise ValueError(\"invalid case\")\n",
    "        if case==\"upper\":\n",
    "            with open(name,mode) as outfile:\n",
    "                outfile.write(self.contents.upper())\n",
    "        if case==\"lower\":\n",
    "            with open(name,mode) as outfile:\n",
    "                outfile.write(self.contents.lower())\n",
    "    def reverse(self, name,mode,unit=\"line\"):\n",
    "        if unit not in [\"line\",\"word\"]:\n",
    "            raise ValueError(\"invalid unit\")\n",
    "        if unit ==\"word\":\n",
    "            with open(name,mode) as outfile:\n",
    "                for elem in self.contents.splitlines():\n",
    "                    outfile.write(elem[::-1]+'\\n')\n",
    "        if unit==\"line\":\n",
    "            with open(name,mode) as outfile:\n",
    "                outfile.writelines(reversed(self.c))\n",
    "    def transpose(self,name,mode):\n",
    "        import numpy as np\n",
    "        with open(name,mode) as outfile:\n",
    "            C=np.array(self.contents.splitlines())\n",
    "            outfile.write(str(C.T))\n",
    "    \n",
    "                    \n",
    "            "
   ]
  },
  {
   "cell_type": "code",
   "execution_count": 87,
   "metadata": {},
   "outputs": [],
   "source": [
    "c=ContentFilter(\"ex.txt\")\n",
    "c.transpose(\"out.txt\",'w')"
   ]
  },
  {
   "cell_type": "code",
   "execution_count": null,
   "metadata": {},
   "outputs": [],
   "source": []
  }
 ],
 "metadata": {
  "kernelspec": {
   "display_name": "Python 3",
   "language": "python",
   "name": "python3"
  },
  "language_info": {
   "codemirror_mode": {
    "name": "ipython",
    "version": 3
   },
   "file_extension": ".py",
   "mimetype": "text/x-python",
   "name": "python",
   "nbconvert_exporter": "python",
   "pygments_lexer": "ipython3",
   "version": "3.6.5"
  }
 },
 "nbformat": 4,
 "nbformat_minor": 2
}
