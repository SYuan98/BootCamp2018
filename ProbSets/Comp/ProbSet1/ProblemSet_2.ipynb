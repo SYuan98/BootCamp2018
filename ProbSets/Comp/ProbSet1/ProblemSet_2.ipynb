{
 "cells": [
  {
   "cell_type": "code",
   "execution_count": 1,
   "metadata": {},
   "outputs": [],
   "source": [
    "# Problem 1\n",
    "def f(L):\n",
    "    return min(L),max(L),sum(L)/len(L)\n",
    "\n",
    "    "
   ]
  },
  {
   "cell_type": "code",
   "execution_count": 2,
   "metadata": {},
   "outputs": [
    {
     "data": {
      "text/plain": [
       "(1, 4, 2.5)"
      ]
     },
     "execution_count": 2,
     "metadata": {},
     "output_type": "execute_result"
    }
   ],
   "source": [
    "f([1,2,3,4])"
   ]
  },
  {
   "cell_type": "code",
   "execution_count": 23,
   "metadata": {},
   "outputs": [],
   "source": [
    "# Problem 2\n",
    "def p2():\n",
    "    int_1=4\n",
    "    int_2=int_1\n",
    "    int_2=5\n",
    "    str_1=\"abcd\"\n",
    "    str_2=str_1\n",
    "    str_2+='d'\n",
    "    list_1=[1,2,3]\n",
    "    list_2=list_1\n",
    "    list_2[0]=0\n",
    "    tuple_1=(1,2,3)\n",
    "    tuple_2=tuple_1\n",
    "    tuple_2+=(1,)\n",
    "    set_1={1,2,3}\n",
    "    set_2=set_1\n",
    "    set_2.add(0)\n",
    "    if int_1==int_2:\n",
    "        print(\"int is a mutable type\")\n",
    "    else:\n",
    "        print(\"int is not a mutable type\")\n",
    "    if str_1==str_2:\n",
    "        print(\"str is a mutable type\")\n",
    "    else:\n",
    "        print(\"str is not a mutable type\")\n",
    "    if list_1==list_2:\n",
    "        print(\"list is a mutable type\")\n",
    "    else:\n",
    "        print(\"list is not a mutable type\")\n",
    "    if tuple_1==tuple_2:\n",
    "        print(\"tuple is a mutable type\")\n",
    "    else:\n",
    "        print(\"tuple is not a mutable type\")\n",
    "    if set_1==set_2:\n",
    "        print(\"set is a mutable type\")\n",
    "    else:\n",
    "        print(\"set is not a mutable type\")"
   ]
  },
  {
   "cell_type": "code",
   "execution_count": 24,
   "metadata": {},
   "outputs": [
    {
     "name": "stdout",
     "output_type": "stream",
     "text": [
      "int is not a mutable type\n",
      "str is not a mutable type\n",
      "list is a mutable type\n",
      "tuple is not a mutable type\n",
      "set is a mutable type\n"
     ]
    }
   ],
   "source": [
    "p2()"
   ]
  },
  {
   "cell_type": "code",
   "execution_count": 46,
   "metadata": {},
   "outputs": [],
   "source": [
    "# Problem 3\n",
    "def p3(a,b):\n",
    "    import calculator as c\n",
    "    L=c.s(a,b)*c.s(a,b)-2*c.p(a,b)\n",
    "    length=c.sqrt(L)\n",
    "    return length \n"
   ]
  },
  {
   "cell_type": "code",
   "execution_count": 47,
   "metadata": {},
   "outputs": [
    {
     "data": {
      "text/plain": [
       "5.0"
      ]
     },
     "execution_count": 47,
     "metadata": {},
     "output_type": "execute_result"
    }
   ],
   "source": [
    "p3(3,4)"
   ]
  },
  {
   "cell_type": "code",
   "execution_count": 2,
   "metadata": {},
   "outputs": [],
   "source": [
    "# Problem 4\n",
    "def p4(A):\n",
    "    from itertools import combinations,chain\n",
    "    s=list(A)\n",
    "    ps=[]\n",
    "    for i in range(len(s)+1):\n",
    "        ps=(list(chain(ps,combinations(s,i))))\n",
    "    return ps\n",
    "    \n"
   ]
  },
  {
   "cell_type": "code",
   "execution_count": 3,
   "metadata": {},
   "outputs": [
    {
     "data": {
      "text/plain": [
       "[(),\n",
       " ('a',),\n",
       " ('b',),\n",
       " ('f',),\n",
       " ('s',),\n",
       " ('j',),\n",
       " ('a', 'b'),\n",
       " ('a', 'f'),\n",
       " ('a', 's'),\n",
       " ('a', 'j'),\n",
       " ('b', 'f'),\n",
       " ('b', 's'),\n",
       " ('b', 'j'),\n",
       " ('f', 's'),\n",
       " ('f', 'j'),\n",
       " ('s', 'j'),\n",
       " ('a', 'b', 'f'),\n",
       " ('a', 'b', 's'),\n",
       " ('a', 'b', 'j'),\n",
       " ('a', 'f', 's'),\n",
       " ('a', 'f', 'j'),\n",
       " ('a', 's', 'j'),\n",
       " ('b', 'f', 's'),\n",
       " ('b', 'f', 'j'),\n",
       " ('b', 's', 'j'),\n",
       " ('f', 's', 'j'),\n",
       " ('a', 'b', 'f', 's'),\n",
       " ('a', 'b', 'f', 'j'),\n",
       " ('a', 'b', 's', 'j'),\n",
       " ('a', 'f', 's', 'j'),\n",
       " ('b', 'f', 's', 'j'),\n",
       " ('a', 'b', 'f', 's', 'j')]"
      ]
     },
     "execution_count": 3,
     "metadata": {},
     "output_type": "execute_result"
    }
   ],
   "source": [
    "p4(\"abfsj\")"
   ]
  },
  {
   "cell_type": "code",
   "execution_count": 13,
   "metadata": {},
   "outputs": [],
   "source": [
    "# Problem 5\n",
    "import sys\n",
    "import time\n",
    "import box\n",
    "import random\n",
    "def game():\n",
    "    a=input(\"enter your name: \")\n",
    "    b=int(input(\"enter a time limit: \"))\n",
    "    if len(sys.argv)==3:\n",
    "        pass\n",
    "    else:\n",
    "        print(\"incorrect number of arguments entered\")\n",
    "    numbers=list(range(1,10))\n",
    "    start=time.time()\n",
    "    t_pass=0\n",
    "    while t_pass<b:\n",
    "        roll=random.randint(1,6)+random.randint(1,6)\n",
    "        print('\\n',\"numbers left:\",numbers)\n",
    "        print(\"roll: \", roll)\n",
    "        t_pass=time.time()- start\n",
    "        print(\"seconds left: \",b-t_pass)\n",
    "        if box.isvalid(roll,numbers)==True:\n",
    "            player_input=input(\"numbers to eliminate: \")\n",
    "            if not box.parse_input(player_input,numbers):\n",
    "                print(\"invalid input\")\n",
    "                print(\"seconds left: \", -time.time()+start+b)\n",
    "            else:\n",
    "                numbers=box.parse_input(player_input, numbers)\n",
    "                pass  \n",
    "        else:\n",
    "            print(\"game over\")\n",
    "            break\n",
    "        \n",
    "    print(\"Score for player \",a,\": \",sum(numbers))\n",
    "    print(\"time played: \", time.time()-start)\n",
    "    if sum(numbers)==0:\n",
    "        print(\"congratulations\")\n",
    "    else:\n",
    "        print(\"better luck next time\")\n",
    "    "
   ]
  },
  {
   "cell_type": "code",
   "execution_count": 14,
   "metadata": {},
   "outputs": [
    {
     "name": "stdout",
     "output_type": "stream",
     "text": [
      "enter your name: Shirley\n",
      "enter a time limit: 10\n",
      "\n",
      " numbers left: [1, 2, 3, 4, 5, 6, 7, 8, 9]\n",
      "roll:  5\n",
      "seconds left:  9.999662160873413\n",
      "numbers to eliminate: 2,3\n",
      "invalid input\n",
      "seconds left:  1.2048261165618896\n",
      "\n",
      " numbers left: [1, 2, 3, 4, 5, 6, 7, 8, 9]\n",
      "roll:  4\n",
      "seconds left:  1.2044851779937744\n",
      "numbers to eliminate: 1,3\n",
      "invalid input\n",
      "seconds left:  -4.671859979629517\n",
      "\n",
      " numbers left: [1, 2, 3, 4, 5, 6, 7, 8, 9]\n",
      "roll:  9\n",
      "seconds left:  -4.6721320152282715\n",
      "numbers to eliminate: 2,7\n",
      "invalid input\n",
      "seconds left:  -9.231534004211426\n",
      "Score for player  Shirley :  45\n",
      "time played:  19.23179602622986\n",
      "better luck next time\n"
     ]
    }
   ],
   "source": [
    ">>> game()"
   ]
  },
  {
   "cell_type": "code",
   "execution_count": null,
   "metadata": {},
   "outputs": [],
   "source": []
  }
 ],
 "metadata": {
  "kernelspec": {
   "display_name": "Python 3",
   "language": "python",
   "name": "python3"
  },
  "language_info": {
   "codemirror_mode": {
    "name": "ipython",
    "version": 3
   },
   "file_extension": ".py",
   "mimetype": "text/x-python",
   "name": "python",
   "nbconvert_exporter": "python",
   "pygments_lexer": "ipython3",
   "version": "3.6.5"
  }
 },
 "nbformat": 4,
 "nbformat_minor": 2
}
