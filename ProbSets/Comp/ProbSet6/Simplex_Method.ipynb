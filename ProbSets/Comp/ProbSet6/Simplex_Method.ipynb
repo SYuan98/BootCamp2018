{
 "cells": [
  {
   "cell_type": "markdown",
   "metadata": {},
   "source": [
    "# Problem 1"
   ]
  },
  {
   "cell_type": "code",
   "execution_count": 68,
   "metadata": {},
   "outputs": [],
   "source": [
    "import numpy as np\n",
    "def check(c, A, b):\n",
    "    if any(b < 0)==True:\n",
    "        raise ValueError\n",
    "    else:\n",
    "        pass\n"
   ]
  },
  {
   "cell_type": "code",
   "execution_count": 69,
   "metadata": {},
   "outputs": [],
   "source": [
    "A = np.array([[1, -1], [3, 1], [4, 3]])\n",
    "b = np.array([2, 5, 7])\n",
    "c = np.array([3, 2])"
   ]
  },
  {
   "cell_type": "markdown",
   "metadata": {},
   "source": [
    "# Problem 2"
   ]
  },
  {
   "cell_type": "code",
   "execution_count": 70,
   "metadata": {},
   "outputs": [
    {
     "name": "stdout",
     "output_type": "stream",
     "text": [
      "[2, 3, 4, 0, 1]\n"
     ]
    }
   ],
   "source": [
    "def index(A):\n",
    "    m, n = A.shape\n",
    "    a = np.arange(n, n + m)\n",
    "    b = np.arange(0, n)\n",
    "    L = np.hstack([a, b])\n",
    "    L = np.ndarray.tolist(L)\n",
    "    return L\n",
    "\n",
    "L = index(A)\n",
    "print(L)"
   ]
  },
  {
   "cell_type": "markdown",
   "metadata": {},
   "source": [
    "# Problem 3\n"
   ]
  },
  {
   "cell_type": "code",
   "execution_count": 71,
   "metadata": {},
   "outputs": [],
   "source": [
    "def get_tableau(c, A, b):\n",
    "    m, n = A.shape\n",
    "    c_bar = np.concatenate([c, np.zeros(m)])\n",
    "    c_bar = -1 * c_bar\n",
    "    T1 = np.concatenate([np.array([0]), c_bar, np.array([1])])\n",
    "    A_bar = np.concatenate([A, np.eye(m)], axis = 1)\n",
    "    T2 = np.hstack([b.reshape(len(b), 1), A_bar, np.zeros((m, 1))])\n",
    "    T = np.vstack([T1, T2])\n",
    "    return T\n",
    "\n"
   ]
  },
  {
   "cell_type": "code",
   "execution_count": 72,
   "metadata": {},
   "outputs": [
    {
     "name": "stdout",
     "output_type": "stream",
     "text": [
      "[[ 0. -3. -2. -0. -0. -0.  1.]\n",
      " [ 2.  1. -1.  1.  0.  0.  0.]\n",
      " [ 5.  3.  1.  0.  1.  0.  0.]\n",
      " [ 7.  4.  3.  0.  0.  1.  0.]]\n"
     ]
    }
   ],
   "source": [
    "T = get_tableau(c, A, b)\n",
    "print(T)"
   ]
  },
  {
   "cell_type": "markdown",
   "metadata": {},
   "source": [
    "# Problem 4"
   ]
  },
  {
   "cell_type": "code",
   "execution_count": 73,
   "metadata": {},
   "outputs": [],
   "source": [
    "def pivot(T):\n",
    "    p, q = T.shape\n",
    "    T1 = T[0, 1:]\n",
    "    column = np.where(T1 < 0)[0][0] + 1\n",
    "    if any(T[:, column] > 0)== False:\n",
    "        raise ValueError\n",
    "    else:\n",
    "        loc = np.where(T[:, column] > 0)[0]\n",
    "        n = len(loc)\n",
    "        mat = np.zeros(n) \n",
    "        for i in range(n):\n",
    "            mat[i] = float(T[loc[i], 0]/T[loc[i], column])\n",
    "        m = np.where(mat==min(mat))[0][0]\n",
    "        row = loc[m]+1\n",
    "        \n",
    "    return row , column+1 \n",
    "\n"
   ]
  },
  {
   "cell_type": "code",
   "execution_count": 74,
   "metadata": {},
   "outputs": [
    {
     "data": {
      "text/plain": [
       "(3, 2)"
      ]
     },
     "execution_count": 74,
     "metadata": {},
     "output_type": "execute_result"
    }
   ],
   "source": [
    "pivot(T)"
   ]
  },
  {
   "cell_type": "markdown",
   "metadata": {},
   "source": [
    "# Problem 5"
   ]
  },
  {
   "cell_type": "code",
   "execution_count": 75,
   "metadata": {},
   "outputs": [
    {
     "data": {
      "text/plain": [
       "(array([[ 5.        ,  0.        , -1.        ,  0.        ,  1.        ,\n",
       "          0.        ,  1.        ],\n",
       "        [ 0.33333333,  0.        , -1.33333333,  1.        , -0.33333333,\n",
       "          0.        ,  0.        ],\n",
       "        [ 5.        ,  3.        ,  1.        ,  0.        ,  1.        ,\n",
       "          0.        ,  0.        ],\n",
       "        [ 0.33333333,  0.        ,  1.66666667,  0.        , -1.33333333,\n",
       "          1.        ,  0.        ]]), [2, 0, 4, 3, 1])"
      ]
     },
     "execution_count": 75,
     "metadata": {},
     "output_type": "execute_result"
    }
   ],
   "source": [
    "def op(T, L):\n",
    "    T1 = np.copy(T)\n",
    "    m, n = pivot(T)\n",
    "    a, b = m - 2, L.index(n - 2) \n",
    "    p, q = T.shape\n",
    "    m = m - 1\n",
    "    n = n - 1\n",
    "    if T[m, n] != 0:\n",
    "         T1[m,:] = T[m, :]/float(T[m, n])\n",
    "    for i in range(p):\n",
    "        if i == m or T[i, n] == 0:\n",
    "            T1[i, :] = T1[i, :]\n",
    "        else:\n",
    "            T1[i, :] = T1[i, :] - float((T1[i, n]/T1[m, n])) * T1[m, :]\n",
    "       \n",
    "    else:\n",
    "         T1[m,:] = T[m, :]\n",
    "       \n",
    "    L[a], L[b] = L[b], L[a]\n",
    "    return T1, L\n",
    "\n",
    "op(T, L)"
   ]
  },
  {
   "cell_type": "markdown",
   "metadata": {},
   "source": [
    "# Problem 6"
   ]
  },
  {
   "cell_type": "code",
   "execution_count": 76,
   "metadata": {},
   "outputs": [],
   "source": [
    "def solve(T, L):\n",
    "    tol = -1e-8\n",
    "    while any(T[0, 1:] < tol) == True:\n",
    "        T_new, L_new = op(T, L)\n",
    "        T = np.copy(T_new)\n",
    "        L = L_new\n",
    "    value = np.ndarray.tolist(T[1:,0])\n",
    "    n = len(value)\n",
    "    D1 = dict(zip(L[:n], [float(str(round(i, 2))) for i in value]))\n",
    "    D2 = dict(zip((L[n:]), np.zeros(len(L) - n)))\n",
    "    return float(T[0,0]), D1, D2\n",
    "\n"
   ]
  },
  {
   "cell_type": "code",
   "execution_count": 77,
   "metadata": {},
   "outputs": [
    {
     "data": {
      "text/plain": [
       "(5.2, {2: 0.6, 0: 4.8, 1: 0.33}, {3: 0.0, 4: 0.0})"
      ]
     },
     "execution_count": 77,
     "metadata": {},
     "output_type": "execute_result"
    }
   ],
   "source": [
    "solve(T, L)"
   ]
  },
  {
   "cell_type": "markdown",
   "metadata": {},
   "source": [
    "# Problem 7"
   ]
  },
  {
   "cell_type": "code",
   "execution_count": 78,
   "metadata": {},
   "outputs": [],
   "source": [
    "data = np.load('productMix.npz')\n",
    "A = data['A']\n",
    "p = data['p']\n",
    "m = data['m']\n",
    "d = data['d']\n"
   ]
  },
  {
   "cell_type": "code",
   "execution_count": 79,
   "metadata": {},
   "outputs": [
    {
     "data": {
      "text/plain": [
       "(7453.596491228071,\n",
       " {1: 1.11, 3: 0.11, 6: 0.97, 0: 10.0, 8: 13.81, 2: 12.0, 10: 8.21},\n",
       " {7: 0.0, 4: 0.0, 9: 0.0, 5: 0.0})"
      ]
     },
     "execution_count": 79,
     "metadata": {},
     "output_type": "execute_result"
    }
   ],
   "source": [
    "A = np.vstack([A, np.eye(4)])\n",
    "b = np.hstack([m, d])\n",
    "L = index(A)\n",
    "T = tableau(p, A, b)\n",
    "solve(T, L)"
   ]
  },
  {
   "cell_type": "code",
   "execution_count": null,
   "metadata": {},
   "outputs": [],
   "source": []
  },
  {
   "cell_type": "code",
   "execution_count": null,
   "metadata": {},
   "outputs": [],
   "source": []
  }
 ],
 "metadata": {
  "kernelspec": {
   "display_name": "Python 3",
   "language": "python",
   "name": "python3"
  },
  "language_info": {
   "codemirror_mode": {
    "name": "ipython",
    "version": 3
   },
   "file_extension": ".py",
   "mimetype": "text/x-python",
   "name": "python",
   "nbconvert_exporter": "python",
   "pygments_lexer": "ipython3",
   "version": "3.6.5"
  }
 },
 "nbformat": 4,
 "nbformat_minor": 2
}
