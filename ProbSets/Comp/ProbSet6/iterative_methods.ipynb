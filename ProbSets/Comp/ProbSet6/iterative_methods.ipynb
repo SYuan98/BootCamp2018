{
 "cells": [
  {
   "cell_type": "code",
   "execution_count": 3,
   "metadata": {},
   "outputs": [],
   "source": [
    "import numpy as np\n",
    "import math\n",
    "import scipy.linalg as la\n",
    "import matplotlib.pyplot as plt"
   ]
  },
  {
   "cell_type": "markdown",
   "metadata": {},
   "source": [
    "# Problem 1 & 2"
   ]
  },
  {
   "cell_type": "code",
   "execution_count": 4,
   "metadata": {},
   "outputs": [],
   "source": [
    "def Jacobi(A, b, tol, maxiters, plot = False):\n",
    "    m, n = A.shape\n",
    "    count = 0\n",
    "    error = np.zeros(maxiters)\n",
    "    L = np.tril(A)\n",
    "    U = np.triu(A)\n",
    "    D = np.diag(A)\n",
    "    x0 = np.zeros_like(b)\n",
    "    dist = 10\n",
    "    while (count < maxiters) and (dist > tol):\n",
    "        x1 = x0 + (b - A@x0)/D\n",
    "        dist = la.norm(x1-x0)\n",
    "        error[count] = dist\n",
    "        x0 = x1\n",
    "        count += 1\n",
    "        \n",
    "    if plot == True:\n",
    "        plt.semilogy(np.arange(1, maxiters+1), error)\n",
    "        plt.title('Convergence of Jacobi Method')\n",
    "        plt.xlim(0, 30)\n",
    "        plt.show()\n",
    "    return x0"
   ]
  },
  {
   "cell_type": "code",
   "execution_count": 5,
   "metadata": {},
   "outputs": [],
   "source": [
    "def diag_dom(n, num_entries=None):\n",
    "    \"\"\"Generate a strictly diagonally dominant (n, n) matrix.\n",
    "    Parameters:\n",
    "        n (int): The dimension of the system.\n",
    "        num_entries (int): The number of nonzero values.\n",
    "            Defaults to n^(3/2)-n.\n",
    "    Returns:\n",
    "        A ((n,n) ndarray): A (n, n) strictly diagonally dominant matrix.\n",
    "    \"\"\"\n",
    "    if num_entries is None:\n",
    "        num_entries = int(n**1.5) - n\n",
    "    A = np.zeros((n,n))\n",
    "    rows = np.random.choice(np.arange(0,n), size=num_entries)\n",
    "    cols = np.random.choice(np.arange(0,n), size=num_entries)\n",
    "    data = np.random.randint(-4, 4, size=num_entries)\n",
    "    for i in range(num_entries):\n",
    "        A[rows[i], cols[i]] = data[i]\n",
    "    for i in range(n):\n",
    "        A[i,i] = np.sum(np.abs(A[i])) + 1\n",
    "    return A\n",
    "\n"
   ]
  },
  {
   "cell_type": "code",
   "execution_count": 6,
   "metadata": {},
   "outputs": [
    {
     "data": {
      "text/plain": [
       "True"
      ]
     },
     "execution_count": 6,
     "metadata": {},
     "output_type": "execute_result"
    }
   ],
   "source": [
    "A = diag_dom(6)\n",
    "\n",
    "b = np.ones(6)\n",
    "x = Jacobi(A, b, 1e-8, 1000)\n",
    "np.allclose(A@x, b)"
   ]
  },
  {
   "cell_type": "code",
   "execution_count": 7,
   "metadata": {},
   "outputs": [
    {
     "data": {
      "image/png": "[encoded data removed]",
      "text/plain": [
       "<Figure size 432x288 with 1 Axes>"
      ]
     },
     "metadata": {},
     "output_type": "display_data"
    },
    {
     "data": {
      "text/plain": [
       "array([1.        , 1.        , 0.30555555, 0.04166667, 0.2361111 ,\n",
       "       0.65277777])"
      ]
     },
     "execution_count": 7,
     "metadata": {},
     "output_type": "execute_result"
    }
   ],
   "source": [
    "Jacobi(A, b, 1e-8, 1000, True)"
   ]
  },
  {
   "cell_type": "markdown",
   "metadata": {},
   "source": [
    "# Problem 3"
   ]
  },
  {
   "cell_type": "code",
   "execution_count": 8,
   "metadata": {},
   "outputs": [],
   "source": [
    "def Gauss_seidel(A, b, tol, maxiters, plot = False):\n",
    "    m, n = A.shape\n",
    "    D = np.diag(A)\n",
    "    x0 = np.zeros_like(b)\n",
    "    x1 = np.zeros_like(b)\n",
    "    error = np.zeros(maxiters)\n",
    "    dist = 10\n",
    "    count = 0\n",
    "    while (dist > tol) and (count<maxiters):\n",
    "        temp = np.copy(x0)\n",
    "        for i in range(n):\n",
    "            x1[i] = x0[i] + (b[i] - np.dot(A[i,:],x0))/A[i,i]\n",
    "        dist = la.norm(x1 - temp)\n",
    "        error[count] = dist\n",
    "        count += 1\n",
    "        x0 = x1\n",
    "    if plot == True :\n",
    "        plt.semilogy(np.arange(1, maxiters+1), error)\n",
    "        plt.title('Convergence of Gauss-Seidel Method')\n",
    "        plt.xlim(0, 15)\n",
    "        plt.show()\n",
    "      \n",
    "    return x0\n",
    "\n",
    "\n",
    "\n",
    "        "
   ]
  },
  {
   "cell_type": "code",
   "execution_count": 9,
   "metadata": {},
   "outputs": [
    {
     "data": {
      "image/png": "[encoded data removed]",
      "text/plain": [
       "<Figure size 432x288 with 1 Axes>"
      ]
     },
     "metadata": {},
     "output_type": "display_data"
    },
    {
     "data": {
      "text/plain": [
       "True"
      ]
     },
     "execution_count": 9,
     "metadata": {},
     "output_type": "execute_result"
    }
   ],
   "source": [
    "x = Gauss_seidel(A, b, 1e-8, 1000, True)        \n",
    "np.allclose(A@x, b)\n",
    "    "
   ]
  },
  {
   "cell_type": "markdown",
   "metadata": {},
   "source": [
    "# Problem 4"
   ]
  },
  {
   "cell_type": "code",
   "execution_count": 10,
   "metadata": {},
   "outputs": [],
   "source": [
    "from scipy import sparse\n",
    "def sparce_gauss(A, b, tol, maxiters):\n",
    "    m, n = A.shape\n",
    "    D = np.diag(A)\n",
    "    x0 = np.zeros_like(b)\n",
    "    dist = 10\n",
    "    count = 0\n",
    "    x1 = np.zeros_like(x0)\n",
    "    while (dist > tol) and (count<maxiters):\n",
    "        temp = np.copy(x0)\n",
    "        for i in range(n):\n",
    "            x1[i] = x0[i] + (b[i] - np.dot(A[i,:],x0))/A[i,i]\n",
    "        dist = la.norm(x1 - temp)\n",
    "        count += 1\n",
    "        x0 = x1             \n",
    "    return x0                       \n",
    "                             \n",
    "\n",
    "                \n",
    "                             \n",
    "                             \n",
    "                \n",
    "                    "
   ]
  },
  {
   "cell_type": "code",
   "execution_count": 11,
   "metadata": {},
   "outputs": [
    {
     "data": {
      "text/plain": [
       "True"
      ]
     },
     "execution_count": 11,
     "metadata": {},
     "output_type": "execute_result"
    }
   ],
   "source": [
    "A = diag_dom(5)\n",
    "b = np.ones(5)\n",
    "\n",
    "np.allclose(A@sparce_gauss(A, b, 1e-8, 1000), b)\n",
    "                             "
   ]
  },
  {
   "cell_type": "markdown",
   "metadata": {},
   "source": [
    "# Problem 5 "
   ]
  },
  {
   "cell_type": "code",
   "execution_count": 35,
   "metadata": {},
   "outputs": [],
   "source": [
    "def SOR(A, b, tol  , maxiters, omega):\n",
    "    m, n = A.shape\n",
    "    D = np.diag(A)\n",
    "    x0 = np.zeros_like(b)\n",
    "    dist = 10\n",
    "    count = 0\n",
    "    x1 = np.zeros_like(x0)\n",
    "    while (dist > tol) and (count<maxiters):\n",
    "        temp = np.copy(x0)\n",
    "        for i in range(n):\n",
    "            x1[i] = x0[i] + (b[i] - np.dot(A[i,:],x0))/A[i,i]*omega\n",
    "        dist = la.norm(x1 - temp)\n",
    "        count += 1\n",
    "        x0 = x1\n",
    "    return x0, count\n",
    "\n"
   ]
  },
  {
   "cell_type": "code",
   "execution_count": 37,
   "metadata": {},
   "outputs": [
    {
     "data": {
      "text/plain": [
       "True"
      ]
     },
     "execution_count": 37,
     "metadata": {},
     "output_type": "execute_result"
    }
   ],
   "source": [
    "A = diag_dom(5)\n",
    "b = np.ones(5)\n",
    "x = SOR(A, b, 1e-8, 10000, 1.5)        \n",
    "np.allclose(A@x[0], b)"
   ]
  },
  {
   "cell_type": "markdown",
   "metadata": {},
   "source": [
    "# Problem 7"
   ]
  },
  {
   "cell_type": "code",
   "execution_count": 29,
   "metadata": {},
   "outputs": [],
   "source": [
    "omega = np.linspace(1, 1.95, 20)"
   ]
  },
  {
   "cell_type": "code",
   "execution_count": 41,
   "metadata": {},
   "outputs": [
    {
     "data": {
      "text/plain": [
       "[<matplotlib.lines.Line2D at 0x61a2e8be0>]"
      ]
     },
     "execution_count": 41,
     "metadata": {},
     "output_type": "execute_result"
    },
    {
     "data": {
      "image/png": "[encoded data removed]",
      "text/plain": [
       "<Figure size 432x288 with 1 Axes>"
      ]
     },
     "metadata": {},
     "output_type": "display_data"
    }
   ],
   "source": [
    "A = diag_dom(50)\n",
    "b = np.ones(50)\n",
    "n = np.zeros(20)\n",
    "for i in range(9):\n",
    "    #print(SOR(A, b, 1e-8, 10000, omega[i])[1])\n",
    "    n[i] = SOR(A, b, 1e-8, 1000, omega[i])[1]\n",
    "#print(n)\n",
    "plt.plot(omega,n)"
   ]
  },
  {
   "cell_type": "code",
   "execution_count": null,
   "metadata": {},
   "outputs": [],
   "source": [
    "\n"
   ]
  }
 ],
 "metadata": {
  "kernelspec": {
   "display_name": "Python 3",
   "language": "python",
   "name": "python3"
  },
  "language_info": {
   "codemirror_mode": {
    "name": "ipython",
    "version": 3
   },
   "file_extension": ".py",
   "mimetype": "text/x-python",
   "name": "python",
   "nbconvert_exporter": "python",
   "pygments_lexer": "ipython3",
   "version": "3.6.5"
  }
 },
 "nbformat": 4,
 "nbformat_minor": 2
}
